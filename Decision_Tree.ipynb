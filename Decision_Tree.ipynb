{
 "cells": [
  {
   "cell_type": "code",
   "execution_count": 1,
   "id": "b2cba156",
   "metadata": {},
   "outputs": [],
   "source": [
    "from tensorflow import keras\n",
    "import matplotlib.pyplot as plt\n",
    "from sklearn.metrics import accuracy_score,confusion_matrix,classification_report\n",
    "import numpy as np\n",
    "import cv2\n",
    "import pandas as pd\n",
    "\n",
    "import os\n",
    "import tensorflow as tf\n",
    "#from tensorflow import keras\n",
    "from tensorflow.keras import layers, Input\n",
    "from tensorflow.keras.models import Sequential, Model\n",
    "from keras.layers import Dense, Dropout,Flatten\n",
    "from keras.layers import Conv2D,MaxPooling2D\n",
    "from keras.utils import to_categorical\n",
    "import keras.utils as image\n",
    "from  matplotlib import pyplot as plt\n",
    "from sklearn.model_selection import train_test_split\n",
    "from tqdm import tqdm"
   ]
  },
  {
   "cell_type": "code",
   "execution_count": 2,
   "id": "e3cc25a3",
   "metadata": {},
   "outputs": [],
   "source": [
    "train=pd.DataFrame(columns=['file_path','class_label'])\n",
    "test=pd.DataFrame(columns=['file_path','class_label'])"
   ]
  },
  {
   "cell_type": "code",
   "execution_count": 3,
   "id": "1b641704",
   "metadata": {},
   "outputs": [],
   "source": [
    "train_dir=r'D:\\ml_dataset\\research\\Warp-C\\train_all'\n",
    "test_dir=r'D:\\ml_dataset\\research\\Warp-C\\test_all'"
   ]
  },
  {
   "cell_type": "code",
   "execution_count": 4,
   "id": "24525850",
   "metadata": {},
   "outputs": [],
   "source": [
    "for class_folder in os.listdir(train_dir):\n",
    "    if os.path.isdir(os.path.join(train_dir, class_folder)):\n",
    "        class_label = class_folder\n",
    "        class_folder_path = os.path.join(train_dir, class_folder)\n",
    "        for image_file in os.listdir(class_folder_path):\n",
    "            image_file_path = os.path.join(class_folder_path, image_file)\n",
    "            train= pd.concat([train, pd.DataFrame([{'file_path': image_file_path, 'class_label': class_label}])], ignore_index=True)"
   ]
  },
  {
   "cell_type": "code",
   "execution_count": 5,
   "id": "b34d242a",
   "metadata": {},
   "outputs": [],
   "source": [
    "for class_folder in os.listdir(test_dir):\n",
    "    if os.path.isdir(os.path.join(test_dir, class_folder)):\n",
    "        class_label = class_folder\n",
    "        class_folder_path = os.path.join(test_dir, class_folder)\n",
    "        for image_file in os.listdir(class_folder_path):\n",
    "            image_file_path = os.path.join(class_folder_path, image_file)\n",
    "            test= pd.concat([test, pd.DataFrame([{'file_path': image_file_path, 'class_label': class_label}])], ignore_index=True)"
   ]
  },
  {
   "cell_type": "code",
   "execution_count": 6,
   "id": "8d91dbc0",
   "metadata": {},
   "outputs": [
    {
     "name": "stderr",
     "output_type": "stream",
     "text": [
      "100%|█████████████████████████████████████████████████████████████████████████████████████████████████████████████████| 8823/8823 [00:21<00:00, 409.79it/s]\n"
     ]
    }
   ],
   "source": [
    "train_image=[]\n",
    "for i in tqdm(range(train.shape[0])):\n",
    "    img=image.load_img(train['file_path'][i],target_size=(32,32,1),grayscale=False)\n",
    "    img=image.img_to_array(img)\n",
    "    img=img/255\n",
    "    train_image.append(img)\n",
    "X_train=np.array(train_image)"
   ]
  },
  {
   "cell_type": "code",
   "execution_count": 7,
   "id": "922419de",
   "metadata": {},
   "outputs": [],
   "source": [
    "Y_train=train['class_label'].values"
   ]
  },
  {
   "cell_type": "code",
   "execution_count": 8,
   "id": "33390487",
   "metadata": {},
   "outputs": [],
   "source": [
    "nsamples, nx, ny, nrgb = X_train.shape\n",
    "X_train2 = X_train.reshape((nsamples,nx*ny*nrgb))"
   ]
  },
  {
   "cell_type": "code",
   "execution_count": 9,
   "id": "2522938b",
   "metadata": {},
   "outputs": [
    {
     "name": "stderr",
     "output_type": "stream",
     "text": [
      "100%|█████████████████████████████████████████████████████████████████████████████████████████████████████████████████| 1551/1551 [00:03<00:00, 390.39it/s]\n"
     ]
    }
   ],
   "source": [
    "test_image=[]\n",
    "for i in tqdm(range(test.shape[0])):\n",
    "    img=image.load_img(test['file_path'][i],target_size=(32,32,1),grayscale=False)\n",
    "    img=image.img_to_array(img)\n",
    "    img=img/255\n",
    "    test_image.append(img)\n",
    "X_test=np.array(test_image)"
   ]
  },
  {
   "cell_type": "code",
   "execution_count": 10,
   "id": "4ae6459d",
   "metadata": {},
   "outputs": [],
   "source": [
    "Y_test=test['class_label'].values"
   ]
  },
  {
   "cell_type": "code",
   "execution_count": 11,
   "id": "6808992b",
   "metadata": {},
   "outputs": [],
   "source": [
    "nsamples, nx, ny, nrgb = X_test.shape\n",
    "X_test2 = X_test.reshape((nsamples,nx*ny*nrgb))"
   ]
  },
  {
   "cell_type": "code",
   "execution_count": 12,
   "id": "badf6de4",
   "metadata": {},
   "outputs": [],
   "source": [
    "from sklearn.tree import DecisionTreeClassifier"
   ]
  },
  {
   "cell_type": "code",
   "execution_count": 13,
   "id": "36a92016",
   "metadata": {},
   "outputs": [],
   "source": [
    "dtc=DecisionTreeClassifier()"
   ]
  },
  {
   "cell_type": "code",
   "execution_count": 14,
   "id": "5b5c8744",
   "metadata": {},
   "outputs": [
    {
     "data": {
      "text/plain": [
       "DecisionTreeClassifier()"
      ]
     },
     "execution_count": 14,
     "metadata": {},
     "output_type": "execute_result"
    }
   ],
   "source": [
    "dtc.fit(X_train2,Y_train)"
   ]
  },
  {
   "cell_type": "code",
   "execution_count": 15,
   "id": "86d8e0ac",
   "metadata": {},
   "outputs": [
    {
     "data": {
      "text/plain": [
       "array(['bottle-transp-full', 'juice-cardboard', 'detergent-transparent',\n",
       "       ..., 'bottle-transp-full', 'detergent-white', 'bottle-transp'],\n",
       "      dtype=object)"
      ]
     },
     "execution_count": 15,
     "metadata": {},
     "output_type": "execute_result"
    }
   ],
   "source": [
    "y_pred_dtc=dtc.predict(X_test2)\n",
    "y_pred_dtc"
   ]
  },
  {
   "cell_type": "code",
   "execution_count": 16,
   "id": "2b84e6b2",
   "metadata": {},
   "outputs": [
    {
     "name": "stdout",
     "output_type": "stream",
     "text": [
      "                         precision    recall  f1-score   support\n",
      "\n",
      "            bottle-blue       0.20      0.17      0.18       125\n",
      "       bottle-blue-full       0.14      0.12      0.13        48\n",
      "          bottle-blue5l       0.12      0.13      0.13        70\n",
      "     bottle-blue5l-full       0.04      0.08      0.06        12\n",
      "            bottle-dark       0.56      0.46      0.50       116\n",
      "       bottle-dark-full       0.21      0.13      0.16        53\n",
      "           bottle-green       0.27      0.25      0.26        80\n",
      "      bottle-green-full       0.24      0.14      0.18        56\n",
      "            bottle-milk       0.21      0.18      0.20        65\n",
      "       bottle-milk-full       0.24      0.33      0.28        15\n",
      "      bottle-multicolor       0.00      0.00      0.00        21\n",
      "bottle-multicolorv-full       0.33      0.30      0.32        23\n",
      "             bottle-oil       0.15      0.11      0.13        63\n",
      "        bottle-oil-full       0.00      0.00      0.00         3\n",
      "          bottle-transp       0.26      0.27      0.26       225\n",
      "     bottle-transp-full       0.20      0.20      0.20        90\n",
      "          bottle-yogurt       0.07      0.06      0.07        49\n",
      "               canister       0.10      0.11      0.11        27\n",
      "                   cans       0.15      0.16      0.16        94\n",
      "          detergent-box       0.06      0.12      0.08         8\n",
      "        detergent-color       0.12      0.12      0.12        42\n",
      "  detergent-transparent       0.07      0.07      0.07        46\n",
      "        detergent-white       0.28      0.27      0.28        44\n",
      "             glass-dark       0.28      0.29      0.29        24\n",
      "            glass-green       0.20      0.33      0.25        15\n",
      "           glass-transp       0.03      0.03      0.03        33\n",
      "        juice-cardboard       0.01      0.02      0.02        42\n",
      "         milk-cardboard       0.11      0.16      0.13        62\n",
      "\n",
      "               accuracy                           0.19      1551\n",
      "              macro avg       0.17      0.17      0.16      1551\n",
      "           weighted avg       0.21      0.19      0.20      1551\n",
      "\n"
     ]
    }
   ],
   "source": [
    "accuracy_score(y_pred_dtc,Y_test)\n",
    "print(classification_report(y_pred_dtc,Y_test))"
   ]
  },
  {
   "cell_type": "code",
   "execution_count": 18,
   "id": "5b3af82e",
   "metadata": {},
   "outputs": [
    {
     "data": {
      "text/plain": [
       "array([[21,  8, 18,  4,  2,  1,  8,  1,  2,  2,  5,  0,  4,  0, 21,  5,\n",
       "         2,  3,  4,  2,  3,  2,  0,  0,  0,  4,  2,  1],\n",
       "       [ 5,  6,  2,  2,  1,  0,  3,  2,  1,  0,  2,  1,  2,  0,  5,  4,\n",
       "         1,  1,  2,  0,  2,  2,  1,  0,  0,  0,  0,  3],\n",
       "       [11,  1,  9,  1,  0,  0,  4,  2,  2,  0,  1,  0,  1,  2, 11,  6,\n",
       "         2,  0,  2,  1,  1,  3,  2,  2,  2,  0,  1,  3],\n",
       "       [ 0,  0,  2,  1,  0,  0,  0,  0,  0,  1,  1,  0,  0,  0,  2,  1,\n",
       "         0,  0,  3,  0,  0,  0,  0,  0,  0,  0,  1,  0],\n",
       "       [ 5,  2,  0,  0, 53,  6,  3,  3,  0,  0,  3,  0,  3,  0,  5,  4,\n",
       "         2,  1,  7,  0,  4,  0,  2,  3,  4,  0,  4,  2],\n",
       "       [ 1,  0,  1,  0,  7,  7,  1,  1,  0,  0,  1,  1,  2,  0,  7,  4,\n",
       "         0,  0,  5,  0,  2,  2,  1,  2,  1,  0,  4,  3],\n",
       "       [ 3,  4,  5,  0,  2,  2, 20,  5,  1,  0,  0,  4,  0,  0,  4,  5,\n",
       "         5,  0,  6,  1,  2,  2,  0,  1,  3,  1,  3,  1],\n",
       "       [ 4,  2,  0,  1,  1,  1,  9,  8,  1,  0,  1,  2,  0,  0,  2,  1,\n",
       "         2,  0,  9,  1,  1,  1,  1,  1,  2,  0,  4,  1],\n",
       "       [ 3,  0,  2,  1,  1,  1,  1,  0, 12,  3,  4,  0,  2,  0,  7,  1,\n",
       "         2,  2,  1,  0,  1,  2,  5,  0,  0,  3,  3,  8],\n",
       "       [ 0,  0,  0,  0,  0,  0,  0,  0,  4,  5,  0,  0,  0,  0,  1,  1,\n",
       "         0,  1,  0,  0,  0,  1,  0,  0,  1,  0,  0,  1],\n",
       "       [ 0,  2,  1,  1,  0,  2,  0,  0,  0,  0,  0,  0,  0,  0,  3,  2,\n",
       "         0,  0,  3,  0,  4,  0,  0,  1,  0,  0,  1,  1],\n",
       "       [ 0,  1,  0,  1,  2,  0,  2,  1,  0,  0,  1,  7,  0,  0,  3,  0,\n",
       "         1,  0,  0,  0,  0,  0,  0,  0,  1,  0,  2,  1],\n",
       "       [ 8,  1,  4,  0,  1,  0,  2,  0,  2,  0,  2,  0,  7,  0, 15,  2,\n",
       "         4,  1,  3,  2,  0,  2,  1,  1,  0,  2,  2,  1],\n",
       "       [ 0,  0,  0,  0,  0,  0,  0,  0,  0,  0,  0,  0,  0,  0,  0,  1,\n",
       "         0,  1,  1,  0,  0,  0,  0,  0,  0,  0,  0,  0],\n",
       "       [21,  8, 11,  5,  3,  2,  4,  3,  9,  0,  1,  2, 13,  2, 60, 11,\n",
       "         4,  4,  9,  0,  5,  6,  4,  1,  0, 10, 10, 17],\n",
       "       [ 7,  1,  3,  3,  5,  1,  4,  4,  0,  0,  0,  2,  2,  0, 21, 18,\n",
       "         1,  0,  3,  0,  3,  4,  0,  1,  1,  3,  2,  1],\n",
       "       [ 2,  1,  2,  0,  1,  1,  1,  1,  4,  3,  1,  0,  1,  0,  4,  2,\n",
       "         3,  3,  5,  3,  1,  1,  0,  0,  0,  1,  4,  4],\n",
       "       [ 0,  1,  1,  0,  0,  0,  1,  1,  1,  1,  0,  0,  1,  0,  1,  1,\n",
       "         1,  3,  1,  1,  0,  1,  3,  1,  1,  1,  1,  4],\n",
       "       [ 3,  1,  2,  1,  8,  5,  4,  1,  2,  1,  1,  0,  2,  0, 17,  6,\n",
       "         2,  2, 15,  2,  1,  0,  0,  2,  0,  2,  7,  7],\n",
       "       [ 0,  0,  0,  0,  0,  0,  0,  0,  1,  0,  0,  0,  0,  0,  1,  1,\n",
       "         0,  1,  0,  1,  1,  0,  0,  0,  0,  0,  2,  0],\n",
       "       [ 2,  3,  1,  1,  0,  1,  1,  0,  1,  0,  1,  0,  0,  1,  6,  2,\n",
       "         3,  1,  1,  1,  5,  1,  1,  0,  0,  0,  4,  5],\n",
       "       [ 3,  0,  1,  1,  1,  0,  0,  0,  3,  0,  0,  0,  1,  1, 11,  1,\n",
       "         2,  1,  2,  0,  1,  3,  3,  0,  0,  2,  3,  6],\n",
       "       [ 0,  0,  1,  0,  0,  0,  0,  0,  4,  2,  1,  0,  1,  0,  4,  0,\n",
       "         1,  1,  2,  0,  1,  2, 12,  0,  0,  1,  1, 10],\n",
       "       [ 0,  0,  0,  0,  2,  2,  1,  0,  0,  0,  1,  1,  0,  0,  1,  0,\n",
       "         0,  0,  2,  0,  1,  0,  0,  7,  3,  2,  0,  1],\n",
       "       [ 0,  0,  0,  0,  1,  1,  0,  0,  0,  0,  0,  0,  0,  0,  1,  0,\n",
       "         0,  0,  2,  0,  0,  0,  0,  1,  5,  2,  2,  0],\n",
       "       [ 3,  0,  2,  1,  1,  0,  1,  1,  0,  0,  1,  0,  1,  2,  6,  5,\n",
       "         0,  0,  3,  0,  2,  0,  1,  1,  0,  1,  0,  1],\n",
       "       [ 2,  0,  1,  0,  1,  0,  2,  0,  1,  1,  0,  1,  3,  0,  5,  4,\n",
       "         3,  2,  5,  0,  2,  2,  2,  0,  1,  1,  1,  2],\n",
       "       [ 0,  1,  3,  0,  2,  1,  2,  0,  6,  2,  0,  0,  2,  0, 10,  4,\n",
       "         1,  2,  2,  2,  0,  4,  4,  0,  0,  0,  4, 10]], dtype=int64)"
      ]
     },
     "execution_count": 18,
     "metadata": {},
     "output_type": "execute_result"
    }
   ],
   "source": [
    "confusion_matrix(y_pred_dtc,Y_test)"
   ]
  },
  {
   "cell_type": "code",
   "execution_count": null,
   "id": "dcea54d6",
   "metadata": {},
   "outputs": [],
   "source": []
  }
 ],
 "metadata": {
  "kernelspec": {
   "display_name": "Python 3 (ipykernel)",
   "language": "python",
   "name": "python3"
  },
  "language_info": {
   "codemirror_mode": {
    "name": "ipython",
    "version": 3
   },
   "file_extension": ".py",
   "mimetype": "text/x-python",
   "name": "python",
   "nbconvert_exporter": "python",
   "pygments_lexer": "ipython3",
   "version": "3.9.12"
  }
 },
 "nbformat": 4,
 "nbformat_minor": 5
}
