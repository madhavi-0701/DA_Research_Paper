{
 "cells": [
  {
   "cell_type": "code",
   "execution_count": 1,
   "id": "daa69add",
   "metadata": {},
   "outputs": [],
   "source": [
    "from tensorflow import keras\n",
    "import matplotlib.pyplot as plt\n",
    "from sklearn.metrics import accuracy_score,confusion_matrix,classification_report\n",
    "import numpy as np\n",
    "import cv2\n",
    "import pandas as pd\n",
    "\n",
    "import os\n",
    "import tensorflow as tf\n",
    "#from tensorflow import keras\n",
    "from tensorflow.keras import layers, Input\n",
    "from tensorflow.keras.models import Sequential, Model\n",
    "from keras.layers import Dense, Dropout,Flatten\n",
    "from keras.layers import Conv2D,MaxPooling2D\n",
    "from keras.utils import to_categorical\n",
    "import keras.utils as image\n",
    "from  matplotlib import pyplot as plt\n",
    "from sklearn.model_selection import train_test_split\n",
    "from tqdm import tqdm"
   ]
  },
  {
   "cell_type": "code",
   "execution_count": 2,
   "id": "a92f861f",
   "metadata": {},
   "outputs": [],
   "source": [
    "train=pd.DataFrame(columns=['file_path','class_label'])\n",
    "test=pd.DataFrame(columns=['file_path','class_label'])\n"
   ]
  },
  {
   "cell_type": "code",
   "execution_count": 3,
   "id": "36dcea85",
   "metadata": {},
   "outputs": [],
   "source": [
    "train_dir=r'D:\\ml_dataset\\research\\Warp-C\\train_all'\n",
    "test_dir=r'D:\\ml_dataset\\research\\Warp-C\\test_all'"
   ]
  },
  {
   "cell_type": "code",
   "execution_count": 4,
   "id": "c821feeb",
   "metadata": {},
   "outputs": [],
   "source": [
    "for class_folder in os.listdir(train_dir):\n",
    "    if os.path.isdir(os.path.join(train_dir, class_folder)):\n",
    "        class_label = class_folder\n",
    "        class_folder_path = os.path.join(train_dir, class_folder)\n",
    "        for image_file in os.listdir(class_folder_path):\n",
    "            image_file_path = os.path.join(class_folder_path, image_file)\n",
    "            train= pd.concat([train, pd.DataFrame([{'file_path': image_file_path, 'class_label': class_label}])], ignore_index=True)"
   ]
  },
  {
   "cell_type": "code",
   "execution_count": 5,
   "id": "2b4e2736",
   "metadata": {},
   "outputs": [],
   "source": [
    "for class_folder in os.listdir(test_dir):\n",
    "    if os.path.isdir(os.path.join(test_dir, class_folder)):\n",
    "        class_label = class_folder\n",
    "        class_folder_path = os.path.join(test_dir, class_folder)\n",
    "        for image_file in os.listdir(class_folder_path):\n",
    "            image_file_path = os.path.join(class_folder_path, image_file)\n",
    "            test= pd.concat([test, pd.DataFrame([{'file_path': image_file_path, 'class_label': class_label}])], ignore_index=True)"
   ]
  },
  {
   "cell_type": "code",
   "execution_count": 6,
   "id": "28dd6a15",
   "metadata": {},
   "outputs": [
    {
     "name": "stderr",
     "output_type": "stream",
     "text": [
      "100%|██████████████████████████████████████████████████████████████████████████████| 8823/8823 [02:06<00:00, 69.76it/s]\n"
     ]
    }
   ],
   "source": [
    "train_image=[]\n",
    "for i in tqdm(range(train.shape[0])):\n",
    "    img=image.load_img(train['file_path'][i],target_size=(32,32,1),grayscale=False)\n",
    "    img=image.img_to_array(img)\n",
    "    img=img/255\n",
    "    train_image.append(img)\n",
    "X_train=np.array(train_image)"
   ]
  },
  {
   "cell_type": "code",
   "execution_count": 7,
   "id": "91ab4d0d",
   "metadata": {},
   "outputs": [],
   "source": [
    "Y_train=train['class_label'].values"
   ]
  },
  {
   "cell_type": "code",
   "execution_count": 8,
   "id": "07572f13",
   "metadata": {},
   "outputs": [],
   "source": [
    "nsamples, nx, ny, nrgb = X_train.shape\n",
    "X_train2 = X_train.reshape((nsamples,nx*ny*nrgb))"
   ]
  },
  {
   "cell_type": "code",
   "execution_count": 9,
   "id": "01ee1b29",
   "metadata": {},
   "outputs": [
    {
     "name": "stderr",
     "output_type": "stream",
     "text": [
      "100%|██████████████████████████████████████████████████████████████████████████████| 1551/1551 [00:43<00:00, 35.68it/s]\n"
     ]
    }
   ],
   "source": [
    "test_image=[]\n",
    "for i in tqdm(range(test.shape[0])):\n",
    "    img=image.load_img(test['file_path'][i],target_size=(32,32,1),grayscale=False)\n",
    "    img=image.img_to_array(img)\n",
    "    img=img/255\n",
    "    test_image.append(img)\n",
    "X_test=np.array(test_image)"
   ]
  },
  {
   "cell_type": "code",
   "execution_count": 10,
   "id": "b5fd8ffe",
   "metadata": {},
   "outputs": [],
   "source": [
    "Y_test=test['class_label'].values"
   ]
  },
  {
   "cell_type": "code",
   "execution_count": 11,
   "id": "0b8d0627",
   "metadata": {},
   "outputs": [],
   "source": [
    "nsamples, nx, ny, nrgb = X_test.shape\n",
    "X_test2 = X_test.reshape((nsamples,nx*ny*nrgb))"
   ]
  },
  {
   "cell_type": "code",
   "execution_count": 12,
   "id": "1ccaef12",
   "metadata": {},
   "outputs": [],
   "source": [
    "from sklearn.neighbors import KNeighborsClassifier"
   ]
  },
  {
   "cell_type": "code",
   "execution_count": 58,
   "id": "4bc21dfd",
   "metadata": {},
   "outputs": [],
   "source": [
    "knn=KNeighborsClassifier(n_neighbors=100)"
   ]
  },
  {
   "cell_type": "code",
   "execution_count": 59,
   "id": "ed750e0e",
   "metadata": {},
   "outputs": [
    {
     "data": {
      "text/plain": [
       "KNeighborsClassifier(n_neighbors=100)"
      ]
     },
     "execution_count": 59,
     "metadata": {},
     "output_type": "execute_result"
    }
   ],
   "source": [
    "knn.fit(X_train2,Y_train)"
   ]
  },
  {
   "cell_type": "code",
   "execution_count": 60,
   "id": "c87906f3",
   "metadata": {},
   "outputs": [
    {
     "data": {
      "text/plain": [
       "array(['bottle-transp', 'bottle-dark', 'bottle-transp', ...,\n",
       "       'bottle-transp', 'bottle-transp', 'bottle-transp'], dtype=object)"
      ]
     },
     "execution_count": 60,
     "metadata": {},
     "output_type": "execute_result"
    }
   ],
   "source": [
    "y_pred_knn=knn.predict(X_test2)\n",
    "y_pred_knn"
   ]
  },
  {
   "cell_type": "code",
   "execution_count": 61,
   "id": "39acda7e",
   "metadata": {},
   "outputs": [
    {
     "name": "stdout",
     "output_type": "stream",
     "text": [
      "                         precision    recall  f1-score   support\n",
      "\n",
      "            bottle-blue       0.15      0.16      0.16       100\n",
      "       bottle-blue-full       0.00      0.00      0.00         0\n",
      "          bottle-blue5l       0.00      0.00      0.00         0\n",
      "     bottle-blue5l-full       0.00      0.00      0.00         0\n",
      "            bottle-dark       0.62      0.32      0.42       184\n",
      "       bottle-dark-full       0.00      0.00      0.00         0\n",
      "           bottle-green       0.00      0.00      0.00         0\n",
      "      bottle-green-full       0.00      0.00      0.00         0\n",
      "            bottle-milk       0.47      0.37      0.42        73\n",
      "       bottle-milk-full       0.00      0.00      0.00         0\n",
      "      bottle-multicolor       0.00      0.00      0.00         0\n",
      "bottle-multicolorv-full       0.00      0.00      0.00         0\n",
      "             bottle-oil       0.00      0.00      0.00         0\n",
      "        bottle-oil-full       0.00      0.00      0.00         0\n",
      "          bottle-transp       0.94      0.19      0.32      1139\n",
      "     bottle-transp-full       0.03      0.25      0.06        12\n",
      "          bottle-yogurt       0.00      0.00      0.00         3\n",
      "               canister       0.13      0.20      0.16        20\n",
      "                   cans       0.00      0.00      0.00         0\n",
      "          detergent-box       0.00      0.00      0.00         0\n",
      "        detergent-color       0.00      0.00      0.00         0\n",
      "  detergent-transparent       0.10      0.25      0.14        16\n",
      "        detergent-white       0.05      0.50      0.09         4\n",
      "             glass-dark       0.00      0.00      0.00         0\n",
      "            glass-green       0.00      0.00      0.00         0\n",
      "           glass-transp       0.00      0.00      0.00         0\n",
      "        juice-cardboard       0.00      0.00      0.00         0\n",
      "         milk-cardboard       0.00      0.00      0.00         0\n",
      "\n",
      "               accuracy                           0.22      1551\n",
      "              macro avg       0.09      0.08      0.06      1551\n",
      "           weighted avg       0.80      0.22      0.32      1551\n",
      "\n"
     ]
    },
    {
     "name": "stderr",
     "output_type": "stream",
     "text": [
      "C:\\Users\\Lenovo\\anaconda3\\lib\\site-packages\\sklearn\\metrics\\_classification.py:1318: UndefinedMetricWarning: Recall and F-score are ill-defined and being set to 0.0 in labels with no true samples. Use `zero_division` parameter to control this behavior.\n",
      "  _warn_prf(average, modifier, msg_start, len(result))\n",
      "C:\\Users\\Lenovo\\anaconda3\\lib\\site-packages\\sklearn\\metrics\\_classification.py:1318: UndefinedMetricWarning: Recall and F-score are ill-defined and being set to 0.0 in labels with no true samples. Use `zero_division` parameter to control this behavior.\n",
      "  _warn_prf(average, modifier, msg_start, len(result))\n",
      "C:\\Users\\Lenovo\\anaconda3\\lib\\site-packages\\sklearn\\metrics\\_classification.py:1318: UndefinedMetricWarning: Recall and F-score are ill-defined and being set to 0.0 in labels with no true samples. Use `zero_division` parameter to control this behavior.\n",
      "  _warn_prf(average, modifier, msg_start, len(result))\n"
     ]
    }
   ],
   "source": [
    "accuracy_score(y_pred_knn,Y_test)\n",
    "print(classification_report(y_pred_knn,Y_test))"
   ]
  },
  {
   "cell_type": "code",
   "execution_count": 62,
   "id": "9aa42c36",
   "metadata": {},
   "outputs": [
    {
     "data": {
      "text/plain": [
       "array([[ 16,   8,  12,   3,   2,   1,   7,   6,   0,   0,   4,   5,   5,\n",
       "          0,   8,   5,   1,   1,   6,   1,   3,   0,   0,   0,   3,   1,\n",
       "          2,   0],\n",
       "       [  0,   0,   0,   0,   0,   0,   0,   0,   0,   0,   0,   0,   0,\n",
       "          0,   0,   0,   0,   0,   0,   0,   0,   0,   0,   0,   0,   0,\n",
       "          0,   0],\n",
       "       [  0,   0,   0,   0,   0,   0,   0,   0,   0,   0,   0,   0,   0,\n",
       "          0,   0,   0,   0,   0,   0,   0,   0,   0,   0,   0,   0,   0,\n",
       "          0,   0],\n",
       "       [  0,   0,   0,   0,   0,   0,   0,   0,   0,   0,   0,   0,   0,\n",
       "          0,   0,   0,   0,   0,   0,   0,   0,   0,   0,   0,   0,   0,\n",
       "          0,   0],\n",
       "       [  4,   1,   3,   0,  59,  22,  11,   6,   0,   0,  11,   3,   2,\n",
       "          0,   3,   3,   2,   0,  11,   0,   5,   1,   0,  15,  14,   3,\n",
       "          5,   0],\n",
       "       [  0,   0,   0,   0,   0,   0,   0,   0,   0,   0,   0,   0,   0,\n",
       "          0,   0,   0,   0,   0,   0,   0,   0,   0,   0,   0,   0,   0,\n",
       "          0,   0],\n",
       "       [  0,   0,   0,   0,   0,   0,   0,   0,   0,   0,   0,   0,   0,\n",
       "          0,   0,   0,   0,   0,   0,   0,   0,   0,   0,   0,   0,   0,\n",
       "          0,   0],\n",
       "       [  0,   0,   0,   0,   0,   0,   0,   0,   0,   0,   0,   0,   0,\n",
       "          0,   0,   0,   0,   0,   0,   0,   0,   0,   0,   0,   0,   0,\n",
       "          0,   0],\n",
       "       [  0,   0,   0,   0,   0,   0,   0,   0,  27,   9,   3,   0,   0,\n",
       "          0,   1,   0,   2,   3,   0,   0,   0,   2,  20,   0,   0,   0,\n",
       "          0,   6],\n",
       "       [  0,   0,   0,   0,   0,   0,   0,   0,   0,   0,   0,   0,   0,\n",
       "          0,   0,   0,   0,   0,   0,   0,   0,   0,   0,   0,   0,   0,\n",
       "          0,   0],\n",
       "       [  0,   0,   0,   0,   0,   0,   0,   0,   0,   0,   0,   0,   0,\n",
       "          0,   0,   0,   0,   0,   0,   0,   0,   0,   0,   0,   0,   0,\n",
       "          0,   0],\n",
       "       [  0,   0,   0,   0,   0,   0,   0,   0,   0,   0,   0,   0,   0,\n",
       "          0,   0,   0,   0,   0,   0,   0,   0,   0,   0,   0,   0,   0,\n",
       "          0,   0],\n",
       "       [  0,   0,   0,   0,   0,   0,   0,   0,   0,   0,   0,   0,   0,\n",
       "          0,   0,   0,   0,   0,   0,   0,   0,   0,   0,   0,   0,   0,\n",
       "          0,   0],\n",
       "       [  0,   0,   0,   0,   0,   0,   0,   0,   0,   0,   0,   0,   0,\n",
       "          0,   0,   0,   0,   0,   0,   0,   0,   0,   0,   0,   0,   0,\n",
       "          0,   0],\n",
       "       [ 84,  33,  57,  21,  34,  10,  56,  20,  24,   6,  10,  11,  41,\n",
       "          7, 220,  80,  35,  21,  81,  15,  34,  33,  18,  10,   8,  32,\n",
       "         59,  79],\n",
       "       [  0,   1,   0,   0,   0,   1,   0,   2,   1,   1,   0,   2,   0,\n",
       "          1,   0,   3,   0,   0,   0,   0,   0,   0,   0,   0,   0,   0,\n",
       "          0,   0],\n",
       "       [  0,   0,   0,   0,   0,   0,   0,   0,   0,   2,   0,   0,   0,\n",
       "          0,   1,   0,   0,   0,   0,   0,   0,   0,   0,   0,   0,   0,\n",
       "          0,   0],\n",
       "       [  0,   0,   0,   0,   0,   0,   0,   0,   5,   2,   0,   0,   0,\n",
       "          0,   1,   0,   1,   4,   0,   0,   0,   1,   2,   0,   0,   0,\n",
       "          1,   3],\n",
       "       [  0,   0,   0,   0,   0,   0,   0,   0,   0,   0,   0,   0,   0,\n",
       "          0,   0,   0,   0,   0,   0,   0,   0,   0,   0,   0,   0,   0,\n",
       "          0,   0],\n",
       "       [  0,   0,   0,   0,   0,   0,   0,   0,   0,   0,   0,   0,   0,\n",
       "          0,   0,   0,   0,   0,   0,   0,   0,   0,   0,   0,   0,   0,\n",
       "          0,   0],\n",
       "       [  0,   0,   0,   0,   0,   0,   0,   0,   0,   0,   0,   0,   0,\n",
       "          0,   0,   0,   0,   0,   0,   0,   0,   0,   0,   0,   0,   0,\n",
       "          0,   0],\n",
       "       [  0,   0,   0,   0,   0,   0,   0,   0,   0,   1,   0,   0,   0,\n",
       "          0,   0,   1,   1,   1,   0,   1,   1,   4,   1,   0,   0,   0,\n",
       "          1,   4],\n",
       "       [  0,   0,   0,   0,   0,   0,   0,   0,   0,   0,   0,   0,   0,\n",
       "          0,   0,   0,   0,   0,   0,   0,   0,   0,   2,   0,   0,   0,\n",
       "          0,   2],\n",
       "       [  0,   0,   0,   0,   0,   0,   0,   0,   0,   0,   0,   0,   0,\n",
       "          0,   0,   0,   0,   0,   0,   0,   0,   0,   0,   0,   0,   0,\n",
       "          0,   0],\n",
       "       [  0,   0,   0,   0,   0,   0,   0,   0,   0,   0,   0,   0,   0,\n",
       "          0,   0,   0,   0,   0,   0,   0,   0,   0,   0,   0,   0,   0,\n",
       "          0,   0],\n",
       "       [  0,   0,   0,   0,   0,   0,   0,   0,   0,   0,   0,   0,   0,\n",
       "          0,   0,   0,   0,   0,   0,   0,   0,   0,   0,   0,   0,   0,\n",
       "          0,   0],\n",
       "       [  0,   0,   0,   0,   0,   0,   0,   0,   0,   0,   0,   0,   0,\n",
       "          0,   0,   0,   0,   0,   0,   0,   0,   0,   0,   0,   0,   0,\n",
       "          0,   0],\n",
       "       [  0,   0,   0,   0,   0,   0,   0,   0,   0,   0,   0,   0,   0,\n",
       "          0,   0,   0,   0,   0,   0,   0,   0,   0,   0,   0,   0,   0,\n",
       "          0,   0]], dtype=int64)"
      ]
     },
     "execution_count": 62,
     "metadata": {},
     "output_type": "execute_result"
    }
   ],
   "source": [
    "confusion_matrix(y_pred_knn,Y_test)"
   ]
  },
  {
   "cell_type": "code",
   "execution_count": null,
   "id": "18fe5910",
   "metadata": {},
   "outputs": [],
   "source": []
  }
 ],
 "metadata": {
  "kernelspec": {
   "display_name": "Python 3 (ipykernel)",
   "language": "python",
   "name": "python3"
  },
  "language_info": {
   "codemirror_mode": {
    "name": "ipython",
    "version": 3
   },
   "file_extension": ".py",
   "mimetype": "text/x-python",
   "name": "python",
   "nbconvert_exporter": "python",
   "pygments_lexer": "ipython3",
   "version": "3.9.12"
  }
 },
 "nbformat": 4,
 "nbformat_minor": 5
}
