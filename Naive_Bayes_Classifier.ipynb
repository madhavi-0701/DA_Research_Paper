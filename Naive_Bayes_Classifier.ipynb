{
 "cells": [
  {
   "cell_type": "code",
   "execution_count": 1,
   "id": "3e3b7a3e",
   "metadata": {},
   "outputs": [],
   "source": [
    "from tensorflow import keras\n",
    "import matplotlib.pyplot as plt\n",
    "from sklearn.metrics import accuracy_score,confusion_matrix,classification_report\n",
    "import numpy as np\n",
    "import cv2\n",
    "import pandas as pd\n",
    "\n",
    "import os\n",
    "import tensorflow as tf\n",
    "#from tensorflow import keras\n",
    "from tensorflow.keras import layers, Input\n",
    "from tensorflow.keras.models import Sequential, Model\n",
    "from keras.layers import Dense, Dropout,Flatten\n",
    "from keras.layers import Conv2D,MaxPooling2D\n",
    "from keras.utils import to_categorical\n",
    "import keras.utils as image\n",
    "from  matplotlib import pyplot as plt\n",
    "from sklearn.model_selection import train_test_split\n",
    "from tqdm import tqdm"
   ]
  },
  {
   "cell_type": "code",
   "execution_count": 2,
   "id": "4e6ef24d",
   "metadata": {},
   "outputs": [],
   "source": [
    "train=pd.DataFrame(columns=['file_path','class_label'])\n",
    "test=pd.DataFrame(columns=['file_path','class_label'])"
   ]
  },
  {
   "cell_type": "code",
   "execution_count": 3,
   "id": "be9ccc1f",
   "metadata": {},
   "outputs": [],
   "source": [
    "train_dir=r'D:\\ml_dataset\\research\\Warp-C\\train_all'\n",
    "test_dir=r'D:\\ml_dataset\\research\\Warp-C\\test_all'"
   ]
  },
  {
   "cell_type": "code",
   "execution_count": 4,
   "id": "8ae7269b",
   "metadata": {},
   "outputs": [],
   "source": [
    "for class_folder in os.listdir(train_dir):\n",
    "    if os.path.isdir(os.path.join(train_dir, class_folder)):\n",
    "        class_label = class_folder\n",
    "        class_folder_path = os.path.join(train_dir, class_folder)\n",
    "        for image_file in os.listdir(class_folder_path):\n",
    "            image_file_path = os.path.join(class_folder_path, image_file)\n",
    "            train= pd.concat([train, pd.DataFrame([{'file_path': image_file_path, 'class_label': class_label}])], ignore_index=True)"
   ]
  },
  {
   "cell_type": "code",
   "execution_count": 5,
   "id": "f2aa001c",
   "metadata": {},
   "outputs": [],
   "source": [
    "for class_folder in os.listdir(test_dir):\n",
    "    if os.path.isdir(os.path.join(test_dir, class_folder)):\n",
    "        class_label = class_folder\n",
    "        class_folder_path = os.path.join(test_dir, class_folder)\n",
    "        for image_file in os.listdir(class_folder_path):\n",
    "            image_file_path = os.path.join(class_folder_path, image_file)\n",
    "            test= pd.concat([test, pd.DataFrame([{'file_path': image_file_path, 'class_label': class_label}])], ignore_index=True)"
   ]
  },
  {
   "cell_type": "code",
   "execution_count": 6,
   "id": "c7091a85",
   "metadata": {},
   "outputs": [
    {
     "name": "stderr",
     "output_type": "stream",
     "text": [
      "100%|█████████████████████████████████████████████████████████████████████████████████████████████████████████████████| 8823/8823 [00:17<00:00, 496.33it/s]\n"
     ]
    }
   ],
   "source": [
    "train_image=[]\n",
    "for i in tqdm(range(train.shape[0])):\n",
    "    img=image.load_img(train['file_path'][i],target_size=(32,32,1),grayscale=False)\n",
    "    img=image.img_to_array(img)\n",
    "    img=img/255\n",
    "    train_image.append(img)\n",
    "X_train=np.array(train_image)"
   ]
  },
  {
   "cell_type": "code",
   "execution_count": 7,
   "id": "97a3206c",
   "metadata": {},
   "outputs": [],
   "source": [
    "Y_train=train['class_label'].values"
   ]
  },
  {
   "cell_type": "code",
   "execution_count": 8,
   "id": "d1a9c3b0",
   "metadata": {},
   "outputs": [],
   "source": [
    "nsamples, nx, ny, nrgb = X_train.shape\n",
    "X_train2 = X_train.reshape((nsamples,nx*ny*nrgb))"
   ]
  },
  {
   "cell_type": "code",
   "execution_count": 9,
   "id": "74ac80dd",
   "metadata": {},
   "outputs": [
    {
     "name": "stderr",
     "output_type": "stream",
     "text": [
      "100%|█████████████████████████████████████████████████████████████████████████████████████████████████████████████████| 1551/1551 [00:13<00:00, 119.20it/s]\n"
     ]
    }
   ],
   "source": [
    "test_image=[]\n",
    "for i in tqdm(range(test.shape[0])):\n",
    "    img=image.load_img(test['file_path'][i],target_size=(32,32,1),grayscale=False)\n",
    "    img=image.img_to_array(img)\n",
    "    img=img/255\n",
    "    test_image.append(img)\n",
    "X_test=np.array(test_image)"
   ]
  },
  {
   "cell_type": "code",
   "execution_count": 10,
   "id": "c3debfcf",
   "metadata": {},
   "outputs": [],
   "source": [
    "Y_test=test['class_label'].values"
   ]
  },
  {
   "cell_type": "code",
   "execution_count": 11,
   "id": "7fa71fe5",
   "metadata": {},
   "outputs": [],
   "source": [
    "nsamples, nx, ny, nrgb = X_test.shape\n",
    "X_test2 = X_test.reshape((nsamples,nx*ny*nrgb))"
   ]
  },
  {
   "cell_type": "code",
   "execution_count": 12,
   "id": "72cd57c3",
   "metadata": {},
   "outputs": [],
   "source": [
    "from sklearn.naive_bayes import GaussianNB"
   ]
  },
  {
   "cell_type": "code",
   "execution_count": 13,
   "id": "6c30f9e0",
   "metadata": {},
   "outputs": [],
   "source": [
    "nb=GaussianNB()"
   ]
  },
  {
   "cell_type": "code",
   "execution_count": 15,
   "id": "0ec2a8db",
   "metadata": {},
   "outputs": [
    {
     "data": {
      "text/plain": [
       "GaussianNB()"
      ]
     },
     "execution_count": 15,
     "metadata": {},
     "output_type": "execute_result"
    }
   ],
   "source": [
    "nb.fit(X_train2,Y_train)"
   ]
  },
  {
   "cell_type": "code",
   "execution_count": 16,
   "id": "fb89c610",
   "metadata": {},
   "outputs": [
    {
     "data": {
      "text/plain": [
       "array(['bottle-blue', 'bottle-dark-full', 'bottle-milk', ..., 'canister',\n",
       "       'bottle-milk', 'cans'], dtype='<U23')"
      ]
     },
     "execution_count": 16,
     "metadata": {},
     "output_type": "execute_result"
    }
   ],
   "source": [
    "y_pred_nb=nb.predict(X_test2)\n",
    "y_pred_nb"
   ]
  },
  {
   "cell_type": "code",
   "execution_count": 17,
   "id": "7f6a502a",
   "metadata": {},
   "outputs": [
    {
     "name": "stdout",
     "output_type": "stream",
     "text": [
      "                         precision    recall  f1-score   support\n",
      "\n",
      "            bottle-blue       0.12      0.28      0.17        46\n",
      "       bottle-blue-full       0.07      0.06      0.06        52\n",
      "          bottle-blue5l       0.11      0.15      0.13        54\n",
      "     bottle-blue5l-full       0.46      0.12      0.18        95\n",
      "            bottle-dark       0.43      0.36      0.39       113\n",
      "       bottle-dark-full       0.56      0.09      0.16       209\n",
      "           bottle-green       0.12      0.32      0.18        28\n",
      "      bottle-green-full       0.09      0.04      0.06        68\n",
      "            bottle-milk       0.49      0.26      0.34       107\n",
      "       bottle-milk-full       0.24      0.22      0.23        23\n",
      "      bottle-multicolor       0.00      0.00      0.00        21\n",
      "bottle-multicolorv-full       0.05      0.08      0.06        12\n",
      "             bottle-oil       0.19      0.09      0.13        95\n",
      "        bottle-oil-full       0.00      0.00      0.00        34\n",
      "          bottle-transp       0.10      0.39      0.16        62\n",
      "     bottle-transp-full       0.08      0.19      0.11        36\n",
      "          bottle-yogurt       0.00      0.00      0.00        22\n",
      "               canister       0.03      0.01      0.02        76\n",
      "                   cans       0.07      0.39      0.12        18\n",
      "          detergent-box       0.18      0.11      0.13        28\n",
      "        detergent-color       0.02      0.03      0.03        29\n",
      "  detergent-transparent       0.17      0.09      0.12        75\n",
      "        detergent-white       0.21      0.26      0.23        35\n",
      "             glass-dark       0.56      0.40      0.47        35\n",
      "            glass-green       0.12      0.27      0.17        11\n",
      "           glass-transp       0.17      0.14      0.15        42\n",
      "        juice-cardboard       0.15      0.20      0.17        49\n",
      "         milk-cardboard       0.16      0.20      0.18        76\n",
      "\n",
      "               accuracy                           0.17      1551\n",
      "              macro avg       0.18      0.17      0.15      1551\n",
      "           weighted avg       0.26      0.17      0.17      1551\n",
      "\n"
     ]
    }
   ],
   "source": [
    "accuracy_score(y_pred_nb,Y_test)\n",
    "print(classification_report(y_pred_nb,Y_test))"
   ]
  },
  {
   "cell_type": "code",
   "execution_count": 18,
   "id": "fd99d013",
   "metadata": {},
   "outputs": [
    {
     "data": {
      "text/plain": [
       "array([[13,  2,  7,  1,  0,  0,  3,  1,  0,  0,  0,  0,  2,  0, 11,  2,\n",
       "         0,  1,  1,  0,  2,  0,  0,  0,  0,  0,  0,  0],\n",
       "       [ 8,  3,  7,  3,  1,  0,  4,  3,  1,  0,  2,  1,  2,  0,  8,  2,\n",
       "         0,  1,  3,  0,  2,  0,  0,  0,  0,  0,  0,  1],\n",
       "       [ 9,  4,  8,  1,  0,  0,  1,  0,  0,  0,  0,  0,  4,  0, 16,  6,\n",
       "         2,  1,  0,  0,  2,  0,  0,  0,  0,  0,  0,  0],\n",
       "       [12,  5,  9, 11,  0,  0,  3,  4,  3,  0,  0,  0,  3,  3, 19, 11,\n",
       "         2,  1,  2,  1,  0,  3,  0,  0,  0,  0,  2,  1],\n",
       "       [ 8,  0,  1,  0, 41, 10,  8,  1,  0,  0,  6,  2,  1,  0, 10,  1,\n",
       "         1,  1,  8,  1,  3,  0,  1,  1,  4,  2,  2,  0],\n",
       "       [10,  4, 11,  0, 31, 19, 18, 13,  0,  0,  5,  6,  8,  0, 21, 13,\n",
       "         3,  1, 10,  1,  6,  4,  0,  3,  5,  6, 11,  0],\n",
       "       [ 1,  1,  0,  0,  2,  0,  9,  1,  0,  0,  1,  1,  1,  0,  4,  2,\n",
       "         0,  0,  4,  0,  0,  0,  0,  0,  0,  0,  1,  0],\n",
       "       [ 6,  5,  5,  0,  1,  0,  7,  3,  0,  0,  2,  4,  2,  0, 10,  7,\n",
       "         3,  0,  4,  3,  1,  1,  0,  0,  1,  0,  2,  1],\n",
       "       [ 1,  0,  2,  0,  0,  0,  1,  0, 28,  9,  1,  0,  2,  0,  8,  2,\n",
       "         5,  6,  0,  0,  1,  9, 14,  0,  0,  0,  0, 18],\n",
       "       [ 1,  0,  0,  0,  0,  0,  0,  0,  2,  5,  2,  0,  0,  0,  1,  1,\n",
       "         2,  0,  0,  0,  1,  0,  4,  0,  0,  0,  0,  4],\n",
       "       [ 1,  0,  0,  0,  2,  2,  2,  0,  0,  0,  0,  0,  0,  0,  1,  0,\n",
       "         0,  0,  5,  0,  1,  0,  0,  3,  3,  0,  0,  1],\n",
       "       [ 0,  1,  0,  0,  0,  0,  2,  0,  0,  0,  1,  1,  0,  0,  2,  0,\n",
       "         0,  0,  2,  0,  0,  2,  0,  0,  0,  0,  1,  0],\n",
       "       [ 8,  1,  4,  1,  2,  0,  4,  1,  0,  0,  0,  0,  9,  1, 23, 12,\n",
       "         2,  2,  7,  0,  4,  3,  1,  0,  0,  4,  4,  2],\n",
       "       [ 3,  2,  2,  2,  0,  1,  1,  0,  1,  0,  0,  0,  2,  0,  9,  1,\n",
       "         1,  2,  0,  0,  0,  1,  0,  0,  0,  2,  3,  1],\n",
       "       [ 3,  2,  2,  2,  1,  0,  1,  2,  0,  0,  0,  1,  1,  0, 24,  6,\n",
       "         1,  2,  1,  0,  2,  3,  0,  0,  0,  1,  2,  5],\n",
       "       [ 0,  0,  0,  1,  0,  1,  1,  1,  1,  0,  0,  0,  0,  0,  8,  7,\n",
       "         2,  2,  2,  0,  3,  2,  0,  0,  0,  1,  2,  2],\n",
       "       [ 1,  1,  0,  1,  0,  0,  0,  0,  1,  0,  0,  1,  2,  0,  4,  2,\n",
       "         0,  1,  1,  0,  1,  2,  0,  0,  0,  1,  1,  2],\n",
       "       [ 4,  2,  2,  0,  0,  0,  1,  1,  6,  4,  0,  0,  0,  1, 10,  3,\n",
       "         1,  1,  7,  1,  0,  1,  4,  0,  0,  4,  9, 14],\n",
       "       [ 0,  0,  0,  0,  1,  0,  0,  0,  0,  0,  2,  0,  1,  0,  1,  1,\n",
       "         1,  0,  7,  0,  0,  0,  0,  0,  0,  0,  1,  3],\n",
       "       [ 0,  0,  0,  0,  0,  0,  1,  0,  0,  0,  0,  1,  1,  0,  5,  1,\n",
       "         1,  0,  2,  3,  4,  0,  1,  0,  0,  1,  5,  2],\n",
       "       [ 2,  1,  0,  0,  2,  0,  2,  0,  0,  0,  1,  1,  1,  1,  3,  2,\n",
       "         0,  0,  6,  0,  1,  0,  1,  0,  1,  0,  1,  3],\n",
       "       [ 6,  4,  7,  1,  0,  0,  2,  0,  2,  1,  0,  0,  1,  0, 13,  5,\n",
       "         4,  3,  3,  0,  1,  7,  3,  0,  0,  4,  4,  4],\n",
       "       [ 0,  0,  0,  0,  0,  0,  0,  0,  9,  2,  0,  0,  0,  0,  2,  0,\n",
       "         0,  4,  0,  0,  0,  0,  9,  0,  1,  0,  1,  7],\n",
       "       [ 0,  2,  0,  0,  3,  1,  0,  0,  0,  0,  1,  1,  0,  0,  1,  0,\n",
       "         1,  0,  3,  0,  1,  0,  0, 14,  5,  1,  0,  1],\n",
       "       [ 0,  0,  0,  0,  1,  0,  0,  1,  0,  0,  0,  0,  0,  0,  0,  1,\n",
       "         0,  0,  2,  0,  0,  0,  0,  3,  3,  0,  0,  0],\n",
       "       [ 1,  0,  0,  0,  2,  0,  0,  2,  0,  0,  2,  0,  1,  1,  5,  2,\n",
       "         4,  0,  7,  3,  3,  0,  0,  0,  0,  6,  0,  3],\n",
       "       [ 2,  0,  0,  0,  4,  0,  2,  0,  1,  0,  1,  1,  2,  1,  3,  1,\n",
       "         2,  1,  7,  1,  0,  1,  1,  1,  2,  1, 10,  4],\n",
       "       [ 4,  3,  5,  0,  1,  0,  1,  0,  2,  0,  1,  0,  2,  0, 12,  1,\n",
       "         4,  0,  4,  3,  4,  2,  4,  0,  0,  2,  6, 15]], dtype=int64)"
      ]
     },
     "execution_count": 18,
     "metadata": {},
     "output_type": "execute_result"
    }
   ],
   "source": [
    "confusion_matrix(y_pred_nb,Y_test)"
   ]
  },
  {
   "cell_type": "code",
   "execution_count": null,
   "id": "9de31035",
   "metadata": {},
   "outputs": [],
   "source": []
  }
 ],
 "metadata": {
  "kernelspec": {
   "display_name": "Python 3 (ipykernel)",
   "language": "python",
   "name": "python3"
  },
  "language_info": {
   "codemirror_mode": {
    "name": "ipython",
    "version": 3
   },
   "file_extension": ".py",
   "mimetype": "text/x-python",
   "name": "python",
   "nbconvert_exporter": "python",
   "pygments_lexer": "ipython3",
   "version": "3.9.12"
  }
 },
 "nbformat": 4,
 "nbformat_minor": 5
}
