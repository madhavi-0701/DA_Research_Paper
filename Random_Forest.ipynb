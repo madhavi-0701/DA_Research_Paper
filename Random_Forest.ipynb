{
 "cells": [
  {
   "cell_type": "code",
   "execution_count": 7,
   "id": "d4253827",
   "metadata": {},
   "outputs": [],
   "source": [
    "from tensorflow import keras\n",
    "import matplotlib.pyplot as plt\n",
    "from sklearn.metrics import accuracy_score,confusion_matrix,classification_report\n",
    "import numpy as np\n",
    "import cv2\n",
    "import pandas as pd\n",
    "\n",
    "import os\n",
    "import tensorflow as tf\n",
    "#from tensorflow import keras\n",
    "from tensorflow.keras import layers, Input\n",
    "from tensorflow.keras.models import Sequential, Model\n",
    "from keras.layers import Dense, Dropout,Flatten\n",
    "from keras.layers import Conv2D,MaxPooling2D\n",
    "from keras.utils import to_categorical\n",
    "import keras.utils as image\n",
    "from  matplotlib import pyplot as plt\n",
    "from sklearn.model_selection import train_test_split\n",
    "from tqdm import tqdm"
   ]
  },
  {
   "cell_type": "code",
   "execution_count": 2,
   "id": "f83cffc2",
   "metadata": {},
   "outputs": [
    {
     "name": "stdout",
     "output_type": "stream",
     "text": [
      "Collecting opencv-python\n",
      "  Downloading opencv_python-4.7.0.72-cp37-abi3-win_amd64.whl (38.2 MB)\n",
      "Requirement already satisfied: numpy>=1.19.3 in c:\\users\\lenovo\\anaconda3\\lib\\site-packages (from opencv-python) (1.22.4)\n",
      "Installing collected packages: opencv-python\n",
      "Successfully installed opencv-python-4.7.0.72\n",
      "Note: you may need to restart the kernel to use updated packages.\n"
     ]
    }
   ],
   "source": [
    "pip install opencv-python"
   ]
  },
  {
   "cell_type": "code",
   "execution_count": 8,
   "id": "4e1c7521",
   "metadata": {},
   "outputs": [],
   "source": [
    "train=pd.DataFrame(columns=['file_path','class_label'])\n",
    "test=pd.DataFrame(columns=['file_path','class_label'])\n"
   ]
  },
  {
   "cell_type": "code",
   "execution_count": 9,
   "id": "599a4183",
   "metadata": {},
   "outputs": [],
   "source": [
    "train_dir=r'D:\\ml_dataset\\research\\Warp-C\\train_all'\n",
    "test_dir=r'D:\\ml_dataset\\research\\Warp-C\\test_all'"
   ]
  },
  {
   "cell_type": "code",
   "execution_count": 18,
   "id": "e285dea6",
   "metadata": {},
   "outputs": [],
   "source": [
    "for class_folder in os.listdir(train_dir):\n",
    "    if os.path.isdir(os.path.join(train_dir, class_folder)):\n",
    "        class_label = class_folder\n",
    "        class_folder_path = os.path.join(train_dir, class_folder)\n",
    "        for image_file in os.listdir(class_folder_path):\n",
    "            image_file_path = os.path.join(class_folder_path, image_file)\n",
    "            train= pd.concat([train, pd.DataFrame([{'file_path': image_file_path, 'class_label': class_label}])], ignore_index=True)"
   ]
  },
  {
   "cell_type": "code",
   "execution_count": 19,
   "id": "278b22b9",
   "metadata": {},
   "outputs": [],
   "source": [
    "for class_folder in os.listdir(test_dir):\n",
    "    if os.path.isdir(os.path.join(test_dir, class_folder)):\n",
    "        class_label = class_folder\n",
    "        class_folder_path = os.path.join(test_dir, class_folder)\n",
    "        for image_file in os.listdir(class_folder_path):\n",
    "            image_file_path = os.path.join(class_folder_path, image_file)\n",
    "            test= pd.concat([test, pd.DataFrame([{'file_path': image_file_path, 'class_label': class_label}])], ignore_index=True)"
   ]
  },
  {
   "cell_type": "code",
   "execution_count": 20,
   "id": "4eeb0d10",
   "metadata": {},
   "outputs": [
    {
     "data": {
      "text/html": [
       "<div>\n",
       "<style scoped>\n",
       "    .dataframe tbody tr th:only-of-type {\n",
       "        vertical-align: middle;\n",
       "    }\n",
       "\n",
       "    .dataframe tbody tr th {\n",
       "        vertical-align: top;\n",
       "    }\n",
       "\n",
       "    .dataframe thead th {\n",
       "        text-align: right;\n",
       "    }\n",
       "</style>\n",
       "<table border=\"1\" class=\"dataframe\">\n",
       "  <thead>\n",
       "    <tr style=\"text-align: right;\">\n",
       "      <th></th>\n",
       "      <th>file_path</th>\n",
       "      <th>class_label</th>\n",
       "    </tr>\n",
       "  </thead>\n",
       "  <tbody>\n",
       "    <tr>\n",
       "      <th>0</th>\n",
       "      <td>D:\\ml_dataset\\research\\Warp-C\\test_all\\milk-ca...</td>\n",
       "      <td>milk-cardboard</td>\n",
       "    </tr>\n",
       "    <tr>\n",
       "      <th>1</th>\n",
       "      <td>D:\\ml_dataset\\research\\Warp-C\\train_all\\bottle...</td>\n",
       "      <td>bottle-blue</td>\n",
       "    </tr>\n",
       "    <tr>\n",
       "      <th>2</th>\n",
       "      <td>D:\\ml_dataset\\research\\Warp-C\\train_all\\bottle...</td>\n",
       "      <td>bottle-blue</td>\n",
       "    </tr>\n",
       "    <tr>\n",
       "      <th>3</th>\n",
       "      <td>D:\\ml_dataset\\research\\Warp-C\\train_all\\bottle...</td>\n",
       "      <td>bottle-blue</td>\n",
       "    </tr>\n",
       "    <tr>\n",
       "      <th>4</th>\n",
       "      <td>D:\\ml_dataset\\research\\Warp-C\\train_all\\bottle...</td>\n",
       "      <td>bottle-blue</td>\n",
       "    </tr>\n",
       "    <tr>\n",
       "      <th>...</th>\n",
       "      <td>...</td>\n",
       "      <td>...</td>\n",
       "    </tr>\n",
       "    <tr>\n",
       "      <th>8819</th>\n",
       "      <td>D:\\ml_dataset\\research\\Warp-C\\train_all\\milk-c...</td>\n",
       "      <td>milk-cardboard</td>\n",
       "    </tr>\n",
       "    <tr>\n",
       "      <th>8820</th>\n",
       "      <td>D:\\ml_dataset\\research\\Warp-C\\train_all\\milk-c...</td>\n",
       "      <td>milk-cardboard</td>\n",
       "    </tr>\n",
       "    <tr>\n",
       "      <th>8821</th>\n",
       "      <td>D:\\ml_dataset\\research\\Warp-C\\train_all\\milk-c...</td>\n",
       "      <td>milk-cardboard</td>\n",
       "    </tr>\n",
       "    <tr>\n",
       "      <th>8822</th>\n",
       "      <td>D:\\ml_dataset\\research\\Warp-C\\train_all\\milk-c...</td>\n",
       "      <td>milk-cardboard</td>\n",
       "    </tr>\n",
       "    <tr>\n",
       "      <th>8823</th>\n",
       "      <td>D:\\ml_dataset\\research\\Warp-C\\train_all\\milk-c...</td>\n",
       "      <td>milk-cardboard</td>\n",
       "    </tr>\n",
       "  </tbody>\n",
       "</table>\n",
       "<p>8824 rows × 2 columns</p>\n",
       "</div>"
      ],
      "text/plain": [
       "                                              file_path     class_label\n",
       "0     D:\\ml_dataset\\research\\Warp-C\\test_all\\milk-ca...  milk-cardboard\n",
       "1     D:\\ml_dataset\\research\\Warp-C\\train_all\\bottle...     bottle-blue\n",
       "2     D:\\ml_dataset\\research\\Warp-C\\train_all\\bottle...     bottle-blue\n",
       "3     D:\\ml_dataset\\research\\Warp-C\\train_all\\bottle...     bottle-blue\n",
       "4     D:\\ml_dataset\\research\\Warp-C\\train_all\\bottle...     bottle-blue\n",
       "...                                                 ...             ...\n",
       "8819  D:\\ml_dataset\\research\\Warp-C\\train_all\\milk-c...  milk-cardboard\n",
       "8820  D:\\ml_dataset\\research\\Warp-C\\train_all\\milk-c...  milk-cardboard\n",
       "8821  D:\\ml_dataset\\research\\Warp-C\\train_all\\milk-c...  milk-cardboard\n",
       "8822  D:\\ml_dataset\\research\\Warp-C\\train_all\\milk-c...  milk-cardboard\n",
       "8823  D:\\ml_dataset\\research\\Warp-C\\train_all\\milk-c...  milk-cardboard\n",
       "\n",
       "[8824 rows x 2 columns]"
      ]
     },
     "execution_count": 20,
     "metadata": {},
     "output_type": "execute_result"
    }
   ],
   "source": [
    "train"
   ]
  },
  {
   "cell_type": "code",
   "execution_count": 21,
   "id": "0bfb2038",
   "metadata": {},
   "outputs": [
    {
     "data": {
      "text/html": [
       "<div>\n",
       "<style scoped>\n",
       "    .dataframe tbody tr th:only-of-type {\n",
       "        vertical-align: middle;\n",
       "    }\n",
       "\n",
       "    .dataframe tbody tr th {\n",
       "        vertical-align: top;\n",
       "    }\n",
       "\n",
       "    .dataframe thead th {\n",
       "        text-align: right;\n",
       "    }\n",
       "</style>\n",
       "<table border=\"1\" class=\"dataframe\">\n",
       "  <thead>\n",
       "    <tr style=\"text-align: right;\">\n",
       "      <th></th>\n",
       "      <th>file_path</th>\n",
       "      <th>class_label</th>\n",
       "    </tr>\n",
       "  </thead>\n",
       "  <tbody>\n",
       "    <tr>\n",
       "      <th>0</th>\n",
       "      <td>D:\\ml_dataset\\research\\Warp-C\\test_all\\bottle-...</td>\n",
       "      <td>bottle-blue</td>\n",
       "    </tr>\n",
       "    <tr>\n",
       "      <th>1</th>\n",
       "      <td>D:\\ml_dataset\\research\\Warp-C\\test_all\\bottle-...</td>\n",
       "      <td>bottle-blue</td>\n",
       "    </tr>\n",
       "    <tr>\n",
       "      <th>2</th>\n",
       "      <td>D:\\ml_dataset\\research\\Warp-C\\test_all\\bottle-...</td>\n",
       "      <td>bottle-blue</td>\n",
       "    </tr>\n",
       "    <tr>\n",
       "      <th>3</th>\n",
       "      <td>D:\\ml_dataset\\research\\Warp-C\\test_all\\bottle-...</td>\n",
       "      <td>bottle-blue</td>\n",
       "    </tr>\n",
       "    <tr>\n",
       "      <th>4</th>\n",
       "      <td>D:\\ml_dataset\\research\\Warp-C\\test_all\\bottle-...</td>\n",
       "      <td>bottle-blue</td>\n",
       "    </tr>\n",
       "    <tr>\n",
       "      <th>...</th>\n",
       "      <td>...</td>\n",
       "      <td>...</td>\n",
       "    </tr>\n",
       "    <tr>\n",
       "      <th>1546</th>\n",
       "      <td>D:\\ml_dataset\\research\\Warp-C\\test_all\\milk-ca...</td>\n",
       "      <td>milk-cardboard</td>\n",
       "    </tr>\n",
       "    <tr>\n",
       "      <th>1547</th>\n",
       "      <td>D:\\ml_dataset\\research\\Warp-C\\test_all\\milk-ca...</td>\n",
       "      <td>milk-cardboard</td>\n",
       "    </tr>\n",
       "    <tr>\n",
       "      <th>1548</th>\n",
       "      <td>D:\\ml_dataset\\research\\Warp-C\\test_all\\milk-ca...</td>\n",
       "      <td>milk-cardboard</td>\n",
       "    </tr>\n",
       "    <tr>\n",
       "      <th>1549</th>\n",
       "      <td>D:\\ml_dataset\\research\\Warp-C\\test_all\\milk-ca...</td>\n",
       "      <td>milk-cardboard</td>\n",
       "    </tr>\n",
       "    <tr>\n",
       "      <th>1550</th>\n",
       "      <td>D:\\ml_dataset\\research\\Warp-C\\test_all\\milk-ca...</td>\n",
       "      <td>milk-cardboard</td>\n",
       "    </tr>\n",
       "  </tbody>\n",
       "</table>\n",
       "<p>1551 rows × 2 columns</p>\n",
       "</div>"
      ],
      "text/plain": [
       "                                              file_path     class_label\n",
       "0     D:\\ml_dataset\\research\\Warp-C\\test_all\\bottle-...     bottle-blue\n",
       "1     D:\\ml_dataset\\research\\Warp-C\\test_all\\bottle-...     bottle-blue\n",
       "2     D:\\ml_dataset\\research\\Warp-C\\test_all\\bottle-...     bottle-blue\n",
       "3     D:\\ml_dataset\\research\\Warp-C\\test_all\\bottle-...     bottle-blue\n",
       "4     D:\\ml_dataset\\research\\Warp-C\\test_all\\bottle-...     bottle-blue\n",
       "...                                                 ...             ...\n",
       "1546  D:\\ml_dataset\\research\\Warp-C\\test_all\\milk-ca...  milk-cardboard\n",
       "1547  D:\\ml_dataset\\research\\Warp-C\\test_all\\milk-ca...  milk-cardboard\n",
       "1548  D:\\ml_dataset\\research\\Warp-C\\test_all\\milk-ca...  milk-cardboard\n",
       "1549  D:\\ml_dataset\\research\\Warp-C\\test_all\\milk-ca...  milk-cardboard\n",
       "1550  D:\\ml_dataset\\research\\Warp-C\\test_all\\milk-ca...  milk-cardboard\n",
       "\n",
       "[1551 rows x 2 columns]"
      ]
     },
     "execution_count": 21,
     "metadata": {},
     "output_type": "execute_result"
    }
   ],
   "source": [
    "test"
   ]
  },
  {
   "cell_type": "code",
   "execution_count": 26,
   "id": "a2d27e07",
   "metadata": {},
   "outputs": [
    {
     "name": "stderr",
     "output_type": "stream",
     "text": [
      "100%|█████████████████████████████████████████████████████████████████████████████████████████████████████████████████| 8824/8824 [00:17<00:00, 493.83it/s]\n"
     ]
    }
   ],
   "source": [
    "train_image=[]\n",
    "for i in tqdm(range(train.shape[0])):\n",
    "    img=image.load_img(train['file_path'][i],target_size=(32,32,1),grayscale=False)\n",
    "    img=image.img_to_array(img)\n",
    "    img=img/255\n",
    "    train_image.append(img)\n",
    "X_train=np.array(train_image)"
   ]
  },
  {
   "cell_type": "code",
   "execution_count": 27,
   "id": "04f92b7f",
   "metadata": {},
   "outputs": [
    {
     "data": {
      "text/plain": [
       "array([[[[0.10196079, 0.09803922, 0.09019608],\n",
       "         [0.05882353, 0.08235294, 0.07450981],\n",
       "         [0.08235294, 0.12156863, 0.09019608],\n",
       "         ...,\n",
       "         [0.29411766, 0.2784314 , 0.18039216],\n",
       "         [0.5058824 , 0.5019608 , 0.53333336],\n",
       "         [0.09019608, 0.08627451, 0.07843138]],\n",
       "\n",
       "        [[0.23529412, 0.22352941, 0.2509804 ],\n",
       "         [0.14117648, 0.14117648, 0.13333334],\n",
       "         [0.10980392, 0.10980392, 0.11764706],\n",
       "         ...,\n",
       "         [0.41568628, 0.4117647 , 0.39215687],\n",
       "         [0.35686275, 0.40784314, 0.43137255],\n",
       "         [0.15686275, 0.12156863, 0.1882353 ]],\n",
       "\n",
       "        [[0.15686275, 0.18431373, 0.20784314],\n",
       "         [0.10588235, 0.07058824, 0.08235294],\n",
       "         [0.3882353 , 0.34117648, 0.28627452],\n",
       "         ...,\n",
       "         [0.41568628, 0.39607844, 0.41960785],\n",
       "         [0.19607843, 0.25882354, 0.21568628],\n",
       "         [0.22352941, 0.1764706 , 0.1764706 ]],\n",
       "\n",
       "        ...,\n",
       "\n",
       "        [[0.18039216, 0.15294118, 0.12156863],\n",
       "         [0.07843138, 0.06666667, 0.04705882],\n",
       "         [0.08627451, 0.09019608, 0.10588235],\n",
       "         ...,\n",
       "         [0.26666668, 0.2627451 , 0.14117648],\n",
       "         [0.32156864, 0.27058825, 0.19607843],\n",
       "         [0.35686275, 0.34901962, 0.2901961 ]],\n",
       "\n",
       "        [[0.24705882, 0.24313726, 0.22745098],\n",
       "         [0.21960784, 0.18039216, 0.17254902],\n",
       "         [0.04313726, 0.04313726, 0.04313726],\n",
       "         ...,\n",
       "         [0.37254903, 0.37254903, 0.22352941],\n",
       "         [0.19607843, 0.18039216, 0.08235294],\n",
       "         [0.22745098, 0.19607843, 0.11372549]],\n",
       "\n",
       "        [[0.2509804 , 0.2509804 , 0.2509804 ],\n",
       "         [0.19607843, 0.16470589, 0.12156863],\n",
       "         [0.07450981, 0.07843138, 0.08627451],\n",
       "         ...,\n",
       "         [0.3647059 , 0.3372549 , 0.22745098],\n",
       "         [0.16078432, 0.16470589, 0.09411765],\n",
       "         [0.25882354, 0.22745098, 0.15294118]]],\n",
       "\n",
       "\n",
       "       [[[0.14117648, 0.1882353 , 0.23529412],\n",
       "         [0.09803922, 0.14509805, 0.2       ],\n",
       "         [0.09803922, 0.14117648, 0.22745098],\n",
       "         ...,\n",
       "         [0.45490196, 0.47843137, 0.53333336],\n",
       "         [0.48235294, 0.4745098 , 0.5176471 ],\n",
       "         [0.48235294, 0.46666667, 0.53333336]],\n",
       "\n",
       "        [[0.07058824, 0.12941177, 0.15686275],\n",
       "         [0.07450981, 0.12941177, 0.16470589],\n",
       "         [0.07843138, 0.12941177, 0.19607843],\n",
       "         ...,\n",
       "         [0.4627451 , 0.47058824, 0.52156866],\n",
       "         [0.42745098, 0.43529412, 0.49411765],\n",
       "         [0.46666667, 0.4509804 , 0.5411765 ]],\n",
       "\n",
       "        [[0.2509804 , 0.31764707, 0.3882353 ],\n",
       "         [0.11764706, 0.18039216, 0.23921569],\n",
       "         [0.09803922, 0.1764706 , 0.21176471],\n",
       "         ...,\n",
       "         [0.28627452, 0.28627452, 0.28627452],\n",
       "         [0.45490196, 0.48235294, 0.52156866],\n",
       "         [0.47058824, 0.49411765, 0.5568628 ]],\n",
       "\n",
       "        ...,\n",
       "\n",
       "        [[0.29411766, 0.26666668, 0.24313726],\n",
       "         [0.3254902 , 0.31764707, 0.27058825],\n",
       "         [0.29411766, 0.30588236, 0.27058825],\n",
       "         ...,\n",
       "         [0.38039216, 0.32941177, 0.19607843],\n",
       "         [0.36078432, 0.3019608 , 0.18039216],\n",
       "         [0.3529412 , 0.3019608 , 0.16470589]],\n",
       "\n",
       "        [[0.2901961 , 0.29803923, 0.25490198],\n",
       "         [0.28627452, 0.2784314 , 0.23137255],\n",
       "         [0.19607843, 0.18039216, 0.13725491],\n",
       "         ...,\n",
       "         [0.4       , 0.18039216, 0.22352941],\n",
       "         [0.3647059 , 0.16078432, 0.21176471],\n",
       "         [0.5411765 , 0.42352942, 0.43137255]],\n",
       "\n",
       "        [[0.3137255 , 0.28627452, 0.24705882],\n",
       "         [0.30588236, 0.3019608 , 0.21960784],\n",
       "         [0.3529412 , 0.32941177, 0.28235295],\n",
       "         ...,\n",
       "         [0.30588236, 0.2901961 , 0.38039216],\n",
       "         [0.45490196, 0.39607844, 0.5647059 ],\n",
       "         [0.23137255, 0.31764707, 0.47058824]]],\n",
       "\n",
       "\n",
       "       [[[0.09019608, 0.07450981, 0.03921569],\n",
       "         [0.23137255, 0.25490198, 0.23921569],\n",
       "         [0.09019608, 0.09803922, 0.07843138],\n",
       "         ...,\n",
       "         [0.5176471 , 0.53333336, 0.5764706 ],\n",
       "         [0.7411765 , 0.7294118 , 0.8509804 ],\n",
       "         [0.6392157 , 0.7019608 , 0.6901961 ]],\n",
       "\n",
       "        [[0.6       , 0.6431373 , 0.6117647 ],\n",
       "         [0.52156866, 0.5372549 , 0.48235294],\n",
       "         [0.08627451, 0.09019608, 0.09803922],\n",
       "         ...,\n",
       "         [0.6862745 , 0.7137255 , 0.78431374],\n",
       "         [0.5764706 , 0.6       , 0.69411767],\n",
       "         [0.7411765 , 0.75686276, 0.76862746]],\n",
       "\n",
       "        [[0.0627451 , 0.05882353, 0.07843138],\n",
       "         [0.08627451, 0.07843138, 0.09803922],\n",
       "         [0.06666667, 0.07450981, 0.05490196],\n",
       "         ...,\n",
       "         [0.7137255 , 0.75686276, 0.78039217],\n",
       "         [0.6862745 , 0.7137255 , 0.7529412 ],\n",
       "         [0.5254902 , 0.5372549 , 0.4627451 ]],\n",
       "\n",
       "        ...,\n",
       "\n",
       "        [[0.18039216, 0.34509805, 0.19607843],\n",
       "         [0.1254902 , 0.2901961 , 0.14901961],\n",
       "         [0.18431373, 0.30588236, 0.18431373],\n",
       "         ...,\n",
       "         [0.04705882, 0.04705882, 0.05490196],\n",
       "         [0.04313726, 0.05098039, 0.04705882],\n",
       "         [0.04705882, 0.0627451 , 0.06666667]],\n",
       "\n",
       "        [[0.05882353, 0.23137255, 0.09411765],\n",
       "         [0.14117648, 0.3137255 , 0.17254902],\n",
       "         [0.1254902 , 0.28627452, 0.16078432],\n",
       "         ...,\n",
       "         [0.03921569, 0.04705882, 0.03529412],\n",
       "         [0.0627451 , 0.0627451 , 0.0627451 ],\n",
       "         [0.05882353, 0.06666667, 0.0627451 ]],\n",
       "\n",
       "        [[0.14901961, 0.30588236, 0.2       ],\n",
       "         [0.13333334, 0.28627452, 0.17254902],\n",
       "         [0.07843138, 0.23137255, 0.10980392],\n",
       "         ...,\n",
       "         [0.04313726, 0.05882353, 0.0627451 ],\n",
       "         [0.0627451 , 0.07058824, 0.06666667],\n",
       "         [0.05490196, 0.0627451 , 0.05882353]]],\n",
       "\n",
       "\n",
       "       ...,\n",
       "\n",
       "\n",
       "       [[[0.7764706 , 0.81960785, 0.84313726],\n",
       "         [0.7921569 , 0.8352941 , 0.85882354],\n",
       "         [0.8       , 0.827451  , 0.8509804 ],\n",
       "         ...,\n",
       "         [0.34117648, 0.37254903, 0.32156864],\n",
       "         [0.7529412 , 0.8       , 0.7607843 ],\n",
       "         [0.7529412 , 0.7882353 , 0.76862746]],\n",
       "\n",
       "        [[0.7764706 , 0.81960785, 0.84313726],\n",
       "         [0.7764706 , 0.81960785, 0.84313726],\n",
       "         [0.7764706 , 0.8117647 , 0.83137256],\n",
       "         ...,\n",
       "         [0.7411765 , 0.77254903, 0.72156864],\n",
       "         [0.7490196 , 0.7882353 , 0.75686276],\n",
       "         [0.7372549 , 0.7764706 , 0.74509805]],\n",
       "\n",
       "        [[0.79607844, 0.8392157 , 0.8627451 ],\n",
       "         [0.77254903, 0.8156863 , 0.8392157 ],\n",
       "         [0.6901961 , 0.7058824 , 0.7176471 ],\n",
       "         ...,\n",
       "         [0.7137255 , 0.7529412 , 0.7176471 ],\n",
       "         [0.7490196 , 0.7764706 , 0.74509805],\n",
       "         [0.74509805, 0.77254903, 0.7411765 ]],\n",
       "\n",
       "        ...,\n",
       "\n",
       "        [[0.7607843 , 0.7176471 , 0.7490196 ],\n",
       "         [0.76862746, 0.7254902 , 0.75686276],\n",
       "         [0.77254903, 0.72156864, 0.7490196 ],\n",
       "         ...,\n",
       "         [0.7490196 , 0.64705884, 0.5803922 ],\n",
       "         [0.7647059 , 0.6666667 , 0.5882353 ],\n",
       "         [0.76862746, 0.6745098 , 0.5803922 ]],\n",
       "\n",
       "        [[0.78431374, 0.7372549 , 0.7764706 ],\n",
       "         [0.7882353 , 0.7411765 , 0.78039217],\n",
       "         [0.79607844, 0.7529412 , 0.78431374],\n",
       "         ...,\n",
       "         [0.8       , 0.69411767, 0.627451  ],\n",
       "         [0.77254903, 0.7019608 , 0.62352943],\n",
       "         [0.7529412 , 0.6784314 , 0.6117647 ]],\n",
       "\n",
       "        [[0.7647059 , 0.7176471 , 0.75686276],\n",
       "         [0.77254903, 0.7254902 , 0.7647059 ],\n",
       "         [0.78431374, 0.7411765 , 0.77254903],\n",
       "         ...,\n",
       "         [0.77254903, 0.69411767, 0.6509804 ],\n",
       "         [0.75686276, 0.68235296, 0.627451  ],\n",
       "         [0.7294118 , 0.65882355, 0.57254905]]],\n",
       "\n",
       "\n",
       "       [[[0.07450981, 0.08235294, 0.07843138],\n",
       "         [0.04313726, 0.05098039, 0.04705882],\n",
       "         [0.0627451 , 0.07058824, 0.05882353],\n",
       "         ...,\n",
       "         [0.04705882, 0.04705882, 0.03921569],\n",
       "         [0.00784314, 0.00784314, 0.        ],\n",
       "         [0.        , 0.        , 0.        ]],\n",
       "\n",
       "        [[0.0627451 , 0.07058824, 0.06666667],\n",
       "         [0.05098039, 0.05882353, 0.05490196],\n",
       "         [0.0627451 , 0.07058824, 0.05882353],\n",
       "         ...,\n",
       "         [0.03137255, 0.03137255, 0.02352941],\n",
       "         [0.02352941, 0.02352941, 0.01568628],\n",
       "         [0.01568628, 0.01568628, 0.01568628]],\n",
       "\n",
       "        [[0.05490196, 0.05490196, 0.04705882],\n",
       "         [0.05490196, 0.05490196, 0.04705882],\n",
       "         [0.07058824, 0.07058824, 0.0627451 ],\n",
       "         ...,\n",
       "         [0.12156863, 0.12156863, 0.11372549],\n",
       "         [0.08235294, 0.08235294, 0.07450981],\n",
       "         [0.03137255, 0.03137255, 0.03137255]],\n",
       "\n",
       "        ...,\n",
       "\n",
       "        [[0.19215687, 0.17254902, 0.15686275],\n",
       "         [0.21568628, 0.1764706 , 0.16862746],\n",
       "         [0.25490198, 0.21960784, 0.2       ],\n",
       "         ...,\n",
       "         [0.38431373, 0.34509805, 0.34117648],\n",
       "         [0.03921569, 0.02352941, 0.01176471],\n",
       "         [0.02352941, 0.02352941, 0.01568628]],\n",
       "\n",
       "        [[0.25882354, 0.22352941, 0.20392157],\n",
       "         [0.22745098, 0.19607843, 0.18431373],\n",
       "         [0.2627451 , 0.22352941, 0.21568628],\n",
       "         ...,\n",
       "         [0.4862745 , 0.4627451 , 0.4627451 ],\n",
       "         [0.3137255 , 0.30980393, 0.3019608 ],\n",
       "         [0.03921569, 0.03529412, 0.02745098]],\n",
       "\n",
       "        [[0.29411766, 0.25490198, 0.25882354],\n",
       "         [0.3254902 , 0.28627452, 0.28235295],\n",
       "         [0.26666668, 0.21176471, 0.20784314],\n",
       "         ...,\n",
       "         [0.5058824 , 0.5019608 , 0.49411765],\n",
       "         [0.5176471 , 0.5254902 , 0.5137255 ],\n",
       "         [0.07843138, 0.07450981, 0.06666667]]],\n",
       "\n",
       "\n",
       "       [[[0.4509804 , 0.4       , 0.36862746],\n",
       "         [0.41568628, 0.36078432, 0.34901962],\n",
       "         [0.3372549 , 0.29803923, 0.25882354],\n",
       "         ...,\n",
       "         [0.10980392, 0.12156863, 0.09411765],\n",
       "         [0.0627451 , 0.08627451, 0.03921569],\n",
       "         [0.08627451, 0.08235294, 0.07450981]],\n",
       "\n",
       "        [[0.50980395, 0.45490196, 0.41960785],\n",
       "         [0.41960785, 0.3764706 , 0.36078432],\n",
       "         [0.47843137, 0.4117647 , 0.38431373],\n",
       "         ...,\n",
       "         [0.09411765, 0.09803922, 0.06666667],\n",
       "         [0.12941177, 0.11372549, 0.10980392],\n",
       "         [0.12941177, 0.11372549, 0.10980392]],\n",
       "\n",
       "        [[0.42745098, 0.37254903, 0.3372549 ],\n",
       "         [0.34117648, 0.30588236, 0.24705882],\n",
       "         [0.26666668, 0.22745098, 0.21960784],\n",
       "         ...,\n",
       "         [0.08627451, 0.08235294, 0.07450981],\n",
       "         [0.39215687, 0.3372549 , 0.3019608 ],\n",
       "         [0.6117647 , 0.5686275 , 0.5529412 ]],\n",
       "\n",
       "        ...,\n",
       "\n",
       "        [[0.0627451 , 0.0627451 , 0.0627451 ],\n",
       "         [0.60784316, 0.6       , 0.6117647 ],\n",
       "         [0.6039216 , 0.59607846, 0.60784316],\n",
       "         ...,\n",
       "         [0.07450981, 0.07450981, 0.07450981],\n",
       "         [0.01960784, 0.01960784, 0.01960784],\n",
       "         [0.7372549 , 0.73333335, 0.7529412 ]],\n",
       "\n",
       "        [[0.58431375, 0.5882353 , 0.6039216 ],\n",
       "         [0.59607846, 0.5882353 , 0.60784316],\n",
       "         [0.60784316, 0.5882353 , 0.6117647 ],\n",
       "         ...,\n",
       "         [0.0627451 , 0.0627451 , 0.0627451 ],\n",
       "         [0.03137255, 0.03137255, 0.03921569],\n",
       "         [0.00784314, 0.00784314, 0.00784314]],\n",
       "\n",
       "        [[0.59607846, 0.5764706 , 0.6       ],\n",
       "         [0.6039216 , 0.5647059 , 0.59607846],\n",
       "         [0.6039216 , 0.56078434, 0.5921569 ],\n",
       "         ...,\n",
       "         [0.01176471, 0.01176471, 0.01176471],\n",
       "         [0.01960784, 0.01960784, 0.01960784],\n",
       "         [0.05098039, 0.05098039, 0.05098039]]]], dtype=float32)"
      ]
     },
     "execution_count": 27,
     "metadata": {},
     "output_type": "execute_result"
    }
   ],
   "source": [
    "X_train"
   ]
  },
  {
   "cell_type": "code",
   "execution_count": 28,
   "id": "4679fdd2",
   "metadata": {},
   "outputs": [
    {
     "data": {
      "text/plain": [
       "(8824, 32, 32, 3)"
      ]
     },
     "execution_count": 28,
     "metadata": {},
     "output_type": "execute_result"
    }
   ],
   "source": [
    "X_train.shape"
   ]
  },
  {
   "cell_type": "code",
   "execution_count": 29,
   "id": "6dc120a7",
   "metadata": {},
   "outputs": [],
   "source": [
    "Y_train=train['class_label'].values"
   ]
  },
  {
   "cell_type": "code",
   "execution_count": 30,
   "id": "e053b728",
   "metadata": {},
   "outputs": [
    {
     "data": {
      "text/plain": [
       "array(['milk-cardboard', 'bottle-blue', 'bottle-blue', ...,\n",
       "       'milk-cardboard', 'milk-cardboard', 'milk-cardboard'], dtype=object)"
      ]
     },
     "execution_count": 30,
     "metadata": {},
     "output_type": "execute_result"
    }
   ],
   "source": [
    "Y_train"
   ]
  },
  {
   "cell_type": "code",
   "execution_count": 31,
   "id": "fa7f3196",
   "metadata": {},
   "outputs": [],
   "source": [
    "nsamples, nx, ny, nrgb = X_train.shape\n",
    "X_train2 = X_train.reshape((nsamples,nx*ny*nrgb))"
   ]
  },
  {
   "cell_type": "code",
   "execution_count": 32,
   "id": "30bacb6a",
   "metadata": {},
   "outputs": [
    {
     "data": {
      "text/plain": [
       "(8824, 3072)"
      ]
     },
     "execution_count": 32,
     "metadata": {},
     "output_type": "execute_result"
    }
   ],
   "source": [
    "X_train2.shape"
   ]
  },
  {
   "cell_type": "code",
   "execution_count": 33,
   "id": "9b3d1fdc",
   "metadata": {},
   "outputs": [],
   "source": [
    "from sklearn.ensemble import RandomForestClassifier"
   ]
  },
  {
   "cell_type": "code",
   "execution_count": 34,
   "id": "146405a0",
   "metadata": {},
   "outputs": [],
   "source": [
    "model=RandomForestClassifier()"
   ]
  },
  {
   "cell_type": "code",
   "execution_count": 35,
   "id": "b3c8b4a3",
   "metadata": {},
   "outputs": [
    {
     "data": {
      "text/plain": [
       "RandomForestClassifier()"
      ]
     },
     "execution_count": 35,
     "metadata": {},
     "output_type": "execute_result"
    }
   ],
   "source": [
    "model.fit(X_train2,Y_train)"
   ]
  },
  {
   "cell_type": "code",
   "execution_count": 36,
   "id": "ae740cef",
   "metadata": {},
   "outputs": [
    {
     "name": "stderr",
     "output_type": "stream",
     "text": [
      "100%|██████████████████████████████████████████████████████████████████████████████████████████████████████████████████| 1551/1551 [00:43<00:00, 35.87it/s]\n"
     ]
    }
   ],
   "source": [
    "test_image=[]\n",
    "for i in tqdm(range(test.shape[0])):\n",
    "    img=image.load_img(test['file_path'][i],target_size=(32,32,1),grayscale=False)\n",
    "    img=image.img_to_array(img)\n",
    "    img=img/255\n",
    "    test_image.append(img)\n",
    "X_test=np.array(test_image)"
   ]
  },
  {
   "cell_type": "code",
   "execution_count": 37,
   "id": "76a7ea78",
   "metadata": {},
   "outputs": [
    {
     "data": {
      "text/plain": [
       "(1551, 32, 32, 3)"
      ]
     },
     "execution_count": 37,
     "metadata": {},
     "output_type": "execute_result"
    }
   ],
   "source": [
    "X_test.shape"
   ]
  },
  {
   "cell_type": "code",
   "execution_count": 38,
   "id": "6120c144",
   "metadata": {},
   "outputs": [],
   "source": [
    "Y_test=test['class_label'].values"
   ]
  },
  {
   "cell_type": "code",
   "execution_count": 39,
   "id": "44cefa6d",
   "metadata": {},
   "outputs": [],
   "source": [
    "nsamples, nx, ny, nrgb = X_test.shape\n",
    "X_test2 = X_test.reshape((nsamples,nx*ny*nrgb))"
   ]
  },
  {
   "cell_type": "code",
   "execution_count": 40,
   "id": "9c0c5aa3",
   "metadata": {},
   "outputs": [
    {
     "data": {
      "text/plain": [
       "(1551, 3072)"
      ]
     },
     "execution_count": 40,
     "metadata": {},
     "output_type": "execute_result"
    }
   ],
   "source": [
    "X_test2.shape"
   ]
  },
  {
   "cell_type": "code",
   "execution_count": 42,
   "id": "ab75592b",
   "metadata": {},
   "outputs": [
    {
     "data": {
      "text/plain": [
       "array(['bottle-transp', 'bottle-dark', 'bottle-transp', ...,\n",
       "       'bottle-blue', 'milk-cardboard', 'milk-cardboard'], dtype=object)"
      ]
     },
     "execution_count": 42,
     "metadata": {},
     "output_type": "execute_result"
    }
   ],
   "source": [
    "y_pred=model.predict(X_test2)\n",
    "y_pred"
   ]
  },
  {
   "cell_type": "code",
   "execution_count": 43,
   "id": "1896e279",
   "metadata": {},
   "outputs": [
    {
     "name": "stdout",
     "output_type": "stream",
     "text": [
      "                         precision    recall  f1-score   support\n",
      "\n",
      "            bottle-blue       0.25      0.23      0.24       114\n",
      "       bottle-blue-full       0.07      0.75      0.13         4\n",
      "          bottle-blue5l       0.10      0.50      0.16        14\n",
      "     bottle-blue5l-full       0.00      0.00      0.00         0\n",
      "            bottle-dark       0.86      0.40      0.54       207\n",
      "       bottle-dark-full       0.06      0.17      0.09        12\n",
      "           bottle-green       0.50      0.41      0.45        90\n",
      "      bottle-green-full       0.12      0.40      0.18        10\n",
      "            bottle-milk       0.53      0.33      0.41        91\n",
      "       bottle-milk-full       0.14      0.75      0.24         4\n",
      "      bottle-multicolor       0.07      0.50      0.12         4\n",
      "bottle-multicolorv-full       0.33      1.00      0.50         7\n",
      "             bottle-oil       0.10      1.00      0.19         5\n",
      "        bottle-oil-full       0.00      0.00      0.00         0\n",
      "          bottle-transp       0.85      0.25      0.39       792\n",
      "     bottle-transp-full       0.16      0.34      0.22        44\n",
      "          bottle-yogurt       0.02      0.50      0.05         2\n",
      "               canister       0.10      0.75      0.18         4\n",
      "                   cans       0.12      0.26      0.17        46\n",
      "          detergent-box       0.06      1.00      0.11         1\n",
      "        detergent-color       0.19      0.62      0.29        13\n",
      "  detergent-transparent       0.02      0.33      0.05         3\n",
      "        detergent-white       0.28      0.41      0.33        29\n",
      "             glass-dark       0.48      0.52      0.50        23\n",
      "            glass-green       0.08      0.50      0.14         4\n",
      "           glass-transp       0.00      0.00      0.00         1\n",
      "        juice-cardboard       0.00      0.00      0.00         0\n",
      "         milk-cardboard       0.14      0.48      0.21        27\n",
      "\n",
      "               accuracy                           0.31      1551\n",
      "              macro avg       0.20      0.44      0.21      1551\n",
      "           weighted avg       0.66      0.31      0.38      1551\n",
      "\n"
     ]
    },
    {
     "name": "stderr",
     "output_type": "stream",
     "text": [
      "C:\\Users\\Lenovo\\anaconda3\\lib\\site-packages\\sklearn\\metrics\\_classification.py:1318: UndefinedMetricWarning: Recall and F-score are ill-defined and being set to 0.0 in labels with no true samples. Use `zero_division` parameter to control this behavior.\n",
      "  _warn_prf(average, modifier, msg_start, len(result))\n",
      "C:\\Users\\Lenovo\\anaconda3\\lib\\site-packages\\sklearn\\metrics\\_classification.py:1318: UndefinedMetricWarning: Recall and F-score are ill-defined and being set to 0.0 in labels with no true samples. Use `zero_division` parameter to control this behavior.\n",
      "  _warn_prf(average, modifier, msg_start, len(result))\n",
      "C:\\Users\\Lenovo\\anaconda3\\lib\\site-packages\\sklearn\\metrics\\_classification.py:1318: UndefinedMetricWarning: Recall and F-score are ill-defined and being set to 0.0 in labels with no true samples. Use `zero_division` parameter to control this behavior.\n",
      "  _warn_prf(average, modifier, msg_start, len(result))\n"
     ]
    }
   ],
   "source": [
    "accuracy_score(y_pred,Y_test)\n",
    "print(classification_report(y_pred,Y_test))"
   ]
  },
  {
   "cell_type": "code",
   "execution_count": 44,
   "id": "d96d5a35",
   "metadata": {},
   "outputs": [
    {
     "data": {
      "text/plain": [
       "array([[ 26,  14,  22,   4,   1,   0,   1,   7,   2,   0,   4,   1,   4,\n",
       "          0,   7,   3,   0,   1,   5,   3,   4,   2,   1,   0,   0,   1,\n",
       "          0,   1],\n",
       "       [  0,   3,   0,   0,   0,   0,   0,   0,   0,   0,   0,   0,   0,\n",
       "          0,   0,   0,   1,   0,   0,   0,   0,   0,   0,   0,   0,   0,\n",
       "          0,   0],\n",
       "       [  2,   1,   7,   2,   1,   0,   0,   0,   0,   0,   0,   0,   0,\n",
       "          0,   0,   0,   0,   0,   0,   1,   0,   0,   0,   0,   0,   0,\n",
       "          0,   0],\n",
       "       [  0,   0,   0,   0,   0,   0,   0,   0,   0,   0,   0,   0,   0,\n",
       "          0,   0,   0,   0,   0,   0,   0,   0,   0,   0,   0,   0,   0,\n",
       "          0,   0],\n",
       "       [  6,   2,   2,   0,  82,  28,   6,   2,   0,   0,   9,   1,   4,\n",
       "          0,   5,   2,   3,   1,  20,   0,   4,   0,   1,   9,   6,   2,\n",
       "          9,   3],\n",
       "       [  0,   0,   0,   0,   0,   2,   0,   1,   0,   0,   1,   0,   0,\n",
       "          0,   1,   1,   1,   0,   0,   0,   0,   1,   0,   3,   0,   1,\n",
       "          0,   0],\n",
       "       [  2,   0,   1,   0,   2,   0,  37,  10,   0,   0,   1,   1,   2,\n",
       "          0,   5,   0,   3,   0,  12,   2,   0,   0,   0,   0,   5,   0,\n",
       "          7,   0],\n",
       "       [  0,   0,   0,   0,   0,   0,   2,   4,   0,   0,   0,   1,   0,\n",
       "          0,   0,   0,   1,   0,   1,   0,   0,   0,   0,   0,   1,   0,\n",
       "          0,   0],\n",
       "       [  0,   0,   0,   0,   0,   0,   0,   0,  30,  11,   3,   0,   1,\n",
       "          0,   4,   0,   4,   7,   1,   1,   0,   5,  14,   0,   1,   0,\n",
       "          1,   8],\n",
       "       [  0,   0,   0,   0,   0,   0,   0,   0,   0,   3,   0,   0,   0,\n",
       "          0,   0,   0,   0,   0,   0,   0,   0,   0,   1,   0,   0,   0,\n",
       "          0,   0],\n",
       "       [  0,   0,   0,   0,   0,   0,   0,   0,   0,   0,   2,   0,   0,\n",
       "          0,   0,   0,   0,   0,   0,   0,   2,   0,   0,   0,   0,   0,\n",
       "          0,   0],\n",
       "       [  0,   0,   0,   0,   0,   0,   0,   0,   0,   0,   0,   7,   0,\n",
       "          0,   0,   0,   0,   0,   0,   0,   0,   0,   0,   0,   0,   0,\n",
       "          0,   0],\n",
       "       [  0,   0,   0,   0,   0,   0,   0,   0,   0,   0,   0,   0,   5,\n",
       "          0,   0,   0,   0,   0,   0,   0,   0,   0,   0,   0,   0,   0,\n",
       "          0,   0],\n",
       "       [  0,   0,   0,   0,   0,   0,   0,   0,   0,   0,   0,   0,   0,\n",
       "          0,   0,   0,   0,   0,   0,   0,   0,   0,   0,   0,   0,   0,\n",
       "          0,   0],\n",
       "       [ 67,  21,  40,  17,   5,   2,  24,   7,  11,   4,   5,   7,  30,\n",
       "          8, 199,  71,  22,  15,  43,   5,  20,  28,  11,   0,   1,  31,\n",
       "         42,  56],\n",
       "       [  1,   2,   0,   1,   1,   0,   2,   2,   3,   0,   2,   1,   2,\n",
       "          0,   5,  15,   0,   0,   2,   0,   1,   1,   1,   0,   0,   0,\n",
       "          1,   1],\n",
       "       [  0,   0,   0,   0,   0,   0,   0,   0,   1,   0,   0,   0,   0,\n",
       "          0,   0,   0,   1,   0,   0,   0,   0,   0,   0,   0,   0,   0,\n",
       "          0,   0],\n",
       "       [  0,   0,   0,   0,   0,   0,   0,   0,   0,   1,   0,   0,   0,\n",
       "          0,   0,   0,   0,   3,   0,   0,   0,   0,   0,   0,   0,   0,\n",
       "          0,   0],\n",
       "       [  0,   0,   0,   0,   3,   0,   0,   1,   0,   0,   1,   1,   0,\n",
       "          0,   6,   0,   4,   0,  12,   1,   2,   1,   1,   1,   3,   1,\n",
       "          3,   5],\n",
       "       [  0,   0,   0,   0,   0,   0,   0,   0,   0,   0,   0,   0,   0,\n",
       "          0,   0,   0,   0,   0,   0,   1,   0,   0,   0,   0,   0,   0,\n",
       "          0,   0],\n",
       "       [  0,   0,   0,   0,   0,   0,   0,   0,   0,   0,   0,   0,   0,\n",
       "          0,   0,   0,   0,   2,   0,   3,   8,   0,   0,   0,   0,   0,\n",
       "          0,   0],\n",
       "       [  0,   0,   0,   0,   0,   0,   0,   0,   0,   0,   0,   0,   0,\n",
       "          0,   0,   0,   0,   0,   0,   0,   1,   1,   1,   0,   0,   0,\n",
       "          0,   0],\n",
       "       [  0,   0,   0,   0,   0,   0,   1,   0,   7,   2,   0,   0,   0,\n",
       "          0,   0,   0,   1,   0,   0,   0,   0,   0,  12,   0,   0,   0,\n",
       "          0,   6],\n",
       "       [  0,   0,   0,   0,   0,   2,   0,   0,   0,   0,   0,   1,   0,\n",
       "          0,   0,   0,   0,   0,   2,   0,   0,   0,   0,  12,   6,   0,\n",
       "          0,   0],\n",
       "       [  0,   0,   0,   0,   0,   0,   1,   0,   0,   0,   0,   0,   0,\n",
       "          0,   0,   0,   0,   0,   0,   0,   1,   0,   0,   0,   2,   0,\n",
       "          0,   0],\n",
       "       [  0,   0,   0,   0,   0,   0,   0,   0,   0,   0,   0,   0,   0,\n",
       "          0,   0,   0,   0,   0,   0,   0,   0,   0,   0,   0,   0,   0,\n",
       "          0,   1],\n",
       "       [  0,   0,   0,   0,   0,   0,   0,   0,   0,   0,   0,   0,   0,\n",
       "          0,   0,   0,   0,   0,   0,   0,   0,   0,   0,   0,   0,   0,\n",
       "          0,   0],\n",
       "       [  0,   0,   0,   0,   0,   0,   0,   0,   3,   0,   0,   0,   0,\n",
       "          0,   2,   0,   1,   1,   0,   0,   0,   2,   0,   0,   0,   0,\n",
       "          5,  13]], dtype=int64)"
      ]
     },
     "execution_count": 44,
     "metadata": {},
     "output_type": "execute_result"
    }
   ],
   "source": [
    "confusion_matrix(y_pred,Y_test)"
   ]
  },
  {
   "cell_type": "code",
   "execution_count": null,
   "id": "ce38eff7",
   "metadata": {},
   "outputs": [],
   "source": []
  }
 ],
 "metadata": {
  "kernelspec": {
   "display_name": "Python 3 (ipykernel)",
   "language": "python",
   "name": "python3"
  },
  "language_info": {
   "codemirror_mode": {
    "name": "ipython",
    "version": 3
   },
   "file_extension": ".py",
   "mimetype": "text/x-python",
   "name": "python",
   "nbconvert_exporter": "python",
   "pygments_lexer": "ipython3",
   "version": "3.9.12"
  }
 },
 "nbformat": 4,
 "nbformat_minor": 5
}
