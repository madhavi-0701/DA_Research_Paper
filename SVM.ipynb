{
 "cells": [
  {
   "cell_type": "code",
   "execution_count": 2,
   "id": "7885907b",
   "metadata": {},
   "outputs": [],
   "source": [
    "import numpy as np\n",
    "import pandas as pd\n",
    "import tensorflow as tf\n",
    "from tensorflow.keras.preprocessing.image import ImageDataGenerator\n",
    "from tensorflow.keras import Sequential\n",
    "from tensorflow.keras.layers import Conv2D,Dense,MaxPool2D,Flatten\n",
    "from tensorflow.keras.regularizers import l2"
   ]
  },
  {
   "cell_type": "code",
   "execution_count": 3,
   "id": "f0796ad8",
   "metadata": {},
   "outputs": [
    {
     "name": "stdout",
     "output_type": "stream",
     "text": [
      "Found 8823 images belonging to 28 classes.\n",
      "Found 1551 images belonging to 28 classes.\n"
     ]
    }
   ],
   "source": [
    "train_dir = r'D:\\ml_dataset\\research\\Warp-C\\train_all'\n",
    "test_dir = r'D:\\ml_dataset\\research\\Warp-C\\test_all'\n",
    "train_datagen = ImageDataGenerator(rescale=(1/255.),shear_range = 0.2,zoom_range=0.2,\n",
    "                                   horizontal_flip=True)\n",
    "training_set = train_datagen.flow_from_directory(directory = train_dir,target_size=(64,64),\n",
    "                                                batch_size=32,\n",
    "                                                class_mode = \"categorical\")\n",
    "test_datagen = ImageDataGenerator(rescale=(1/255.))\n",
    "test_set = test_datagen.flow_from_directory(directory = test_dir,target_size=(64,64),\n",
    "                                                batch_size=32,\n",
    "                                                class_mode = \"categorical\")"
   ]
  },
  {
   "cell_type": "code",
   "execution_count": 4,
   "id": "b9d070a8",
   "metadata": {},
   "outputs": [],
   "source": [
    "model = Sequential()\n",
    "model.add(Conv2D(filters = 32, padding = \"same\",activation = \"relu\",kernel_size=3, strides = 2,input_shape=(64,64,3)))\n",
    "model.add(MaxPool2D(pool_size=(2,2),strides = 2))\n",
    "\n",
    "model.add(Conv2D(filters = 32, padding = \"same\",activation = \"relu\",kernel_size=3))\n",
    "model.add(MaxPool2D(pool_size=(2,2),strides = 2))\n",
    "\n",
    "model.add(Flatten())\n",
    "model.add(Dense(128,activation=\"relu\"))\n",
    "\n",
    "#Output layer\n",
    "model.add(Dense(28,kernel_regularizer = l2(0.01),activation= 'softmax'))\n",
    "model.compile(optimizer='adam',loss='squared_hinge', metrics = ['accuracy'])"
   ]
  },
  {
   "cell_type": "code",
   "execution_count": 5,
   "id": "bc871c5f",
   "metadata": {},
   "outputs": [
    {
     "name": "stdout",
     "output_type": "stream",
     "text": [
      "Epoch 1/50\n",
      "276/276 [==============================] - 262s 942ms/step - loss: 1.1607 - accuracy: 0.1706 - val_loss: 1.0660 - val_accuracy: 0.1728\n",
      "Epoch 2/50\n",
      "276/276 [==============================] - 58s 209ms/step - loss: 1.0606 - accuracy: 0.2387 - val_loss: 1.0592 - val_accuracy: 0.2379\n",
      "Epoch 3/50\n",
      "276/276 [==============================] - 48s 172ms/step - loss: 1.0572 - accuracy: 0.2658 - val_loss: 1.0572 - val_accuracy: 0.2573\n",
      "Epoch 4/50\n",
      "276/276 [==============================] - 47s 170ms/step - loss: 1.0548 - accuracy: 0.2871 - val_loss: 1.0564 - val_accuracy: 0.2676\n",
      "Epoch 5/50\n",
      "276/276 [==============================] - 47s 171ms/step - loss: 1.0533 - accuracy: 0.2968 - val_loss: 1.0539 - val_accuracy: 0.2992\n",
      "Epoch 6/50\n",
      "276/276 [==============================] - 30s 108ms/step - loss: 1.0521 - accuracy: 0.3098 - val_loss: 1.0521 - val_accuracy: 0.3095\n",
      "Epoch 7/50\n",
      "276/276 [==============================] - 25s 91ms/step - loss: 1.0513 - accuracy: 0.3175 - val_loss: 1.0520 - val_accuracy: 0.3024\n",
      "Epoch 8/50\n",
      "276/276 [==============================] - 26s 95ms/step - loss: 1.0506 - accuracy: 0.3203 - val_loss: 1.0522 - val_accuracy: 0.2901\n",
      "Epoch 9/50\n",
      "276/276 [==============================] - 27s 96ms/step - loss: 1.0501 - accuracy: 0.3263 - val_loss: 1.0508 - val_accuracy: 0.3191\n",
      "Epoch 10/50\n",
      "276/276 [==============================] - 26s 93ms/step - loss: 1.0487 - accuracy: 0.3448 - val_loss: 1.0490 - val_accuracy: 0.3320\n",
      "Epoch 11/50\n",
      "276/276 [==============================] - 26s 95ms/step - loss: 1.0484 - accuracy: 0.3460 - val_loss: 1.0487 - val_accuracy: 0.3462\n",
      "Epoch 12/50\n",
      "276/276 [==============================] - 26s 92ms/step - loss: 1.0478 - accuracy: 0.3520 - val_loss: 1.0507 - val_accuracy: 0.3191\n",
      "Epoch 13/50\n",
      "276/276 [==============================] - 27s 98ms/step - loss: 1.0472 - accuracy: 0.3595 - val_loss: 1.0503 - val_accuracy: 0.3243\n",
      "Epoch 14/50\n",
      "276/276 [==============================] - 26s 94ms/step - loss: 1.0464 - accuracy: 0.3661 - val_loss: 1.0479 - val_accuracy: 0.3462\n",
      "Epoch 15/50\n",
      "276/276 [==============================] - 24s 85ms/step - loss: 1.0460 - accuracy: 0.3732 - val_loss: 1.0497 - val_accuracy: 0.3327\n",
      "Epoch 16/50\n",
      "276/276 [==============================] - 25s 90ms/step - loss: 1.0459 - accuracy: 0.3719 - val_loss: 1.0486 - val_accuracy: 0.3443\n",
      "Epoch 17/50\n",
      "276/276 [==============================] - 25s 89ms/step - loss: 1.0454 - accuracy: 0.3755 - val_loss: 1.0468 - val_accuracy: 0.3540\n",
      "Epoch 18/50\n",
      "276/276 [==============================] - 24s 87ms/step - loss: 1.0447 - accuracy: 0.3830 - val_loss: 1.0479 - val_accuracy: 0.3495\n",
      "Epoch 19/50\n",
      "276/276 [==============================] - 25s 91ms/step - loss: 1.0444 - accuracy: 0.3868 - val_loss: 1.0492 - val_accuracy: 0.3430\n",
      "Epoch 20/50\n",
      "276/276 [==============================] - 24s 88ms/step - loss: 1.0434 - accuracy: 0.3991 - val_loss: 1.0464 - val_accuracy: 0.3681\n",
      "Epoch 21/50\n",
      "276/276 [==============================] - 25s 91ms/step - loss: 1.0434 - accuracy: 0.3983 - val_loss: 1.0467 - val_accuracy: 0.3572\n",
      "Epoch 22/50\n",
      "276/276 [==============================] - 24s 88ms/step - loss: 1.0426 - accuracy: 0.4121 - val_loss: 1.0449 - val_accuracy: 0.3862\n",
      "Epoch 23/50\n",
      "276/276 [==============================] - 24s 87ms/step - loss: 1.0426 - accuracy: 0.4092 - val_loss: 1.0469 - val_accuracy: 0.3636\n",
      "Epoch 24/50\n",
      "276/276 [==============================] - 24s 87ms/step - loss: 1.0414 - accuracy: 0.4217 - val_loss: 1.0461 - val_accuracy: 0.3733\n",
      "Epoch 25/50\n",
      "276/276 [==============================] - 25s 89ms/step - loss: 1.0412 - accuracy: 0.4211 - val_loss: 1.0465 - val_accuracy: 0.3662\n",
      "Epoch 26/50\n",
      "276/276 [==============================] - 23s 84ms/step - loss: 1.0409 - accuracy: 0.4241 - val_loss: 1.0466 - val_accuracy: 0.3759\n",
      "Epoch 27/50\n",
      "276/276 [==============================] - 23s 85ms/step - loss: 1.0400 - accuracy: 0.4317 - val_loss: 1.0452 - val_accuracy: 0.3765\n",
      "Epoch 28/50\n",
      "276/276 [==============================] - 24s 87ms/step - loss: 1.0402 - accuracy: 0.4335 - val_loss: 1.0476 - val_accuracy: 0.3675\n",
      "Epoch 29/50\n",
      "276/276 [==============================] - 25s 89ms/step - loss: 1.0398 - accuracy: 0.4356 - val_loss: 1.0481 - val_accuracy: 0.3598\n",
      "Epoch 30/50\n",
      "276/276 [==============================] - 25s 89ms/step - loss: 1.0389 - accuracy: 0.4470 - val_loss: 1.0492 - val_accuracy: 0.3501\n",
      "Epoch 31/50\n",
      "276/276 [==============================] - 25s 89ms/step - loss: 1.0391 - accuracy: 0.4411 - val_loss: 1.0440 - val_accuracy: 0.3798\n",
      "Epoch 32/50\n",
      "276/276 [==============================] - 26s 93ms/step - loss: 1.0381 - accuracy: 0.4500 - val_loss: 1.0461 - val_accuracy: 0.3733\n",
      "Epoch 33/50\n",
      "276/276 [==============================] - 25s 91ms/step - loss: 1.0377 - accuracy: 0.4564 - val_loss: 1.0440 - val_accuracy: 0.3823\n",
      "Epoch 34/50\n",
      "276/276 [==============================] - 25s 89ms/step - loss: 1.0381 - accuracy: 0.4508 - val_loss: 1.0493 - val_accuracy: 0.3514\n",
      "Epoch 35/50\n",
      "276/276 [==============================] - 26s 95ms/step - loss: 1.0374 - accuracy: 0.4566 - val_loss: 1.0436 - val_accuracy: 0.3952\n",
      "Epoch 36/50\n",
      "276/276 [==============================] - 25s 89ms/step - loss: 1.0370 - accuracy: 0.4645 - val_loss: 1.0477 - val_accuracy: 0.3675\n",
      "Epoch 37/50\n",
      "276/276 [==============================] - 25s 89ms/step - loss: 1.0368 - accuracy: 0.4645 - val_loss: 1.0454 - val_accuracy: 0.3875\n",
      "Epoch 38/50\n",
      "276/276 [==============================] - 25s 90ms/step - loss: 1.0363 - accuracy: 0.4683 - val_loss: 1.0452 - val_accuracy: 0.3914\n",
      "Epoch 39/50\n",
      "276/276 [==============================] - 26s 95ms/step - loss: 1.0361 - accuracy: 0.4698 - val_loss: 1.0430 - val_accuracy: 0.4030\n",
      "Epoch 40/50\n",
      "276/276 [==============================] - 26s 95ms/step - loss: 1.0356 - accuracy: 0.4748 - val_loss: 1.0437 - val_accuracy: 0.3946\n",
      "Epoch 41/50\n",
      "276/276 [==============================] - 25s 91ms/step - loss: 1.0359 - accuracy: 0.4683 - val_loss: 1.0436 - val_accuracy: 0.3881\n",
      "Epoch 42/50\n",
      "276/276 [==============================] - 27s 98ms/step - loss: 1.0351 - accuracy: 0.4804 - val_loss: 1.0465 - val_accuracy: 0.3804\n",
      "Epoch 43/50\n",
      "276/276 [==============================] - 27s 98ms/step - loss: 1.0347 - accuracy: 0.4855 - val_loss: 1.0430 - val_accuracy: 0.4075\n",
      "Epoch 44/50\n",
      "276/276 [==============================] - 26s 92ms/step - loss: 1.0344 - accuracy: 0.4853 - val_loss: 1.0444 - val_accuracy: 0.3946\n",
      "Epoch 45/50\n",
      "276/276 [==============================] - 26s 92ms/step - loss: 1.0343 - accuracy: 0.4879 - val_loss: 1.0458 - val_accuracy: 0.3817\n",
      "Epoch 46/50\n",
      "276/276 [==============================] - 25s 92ms/step - loss: 1.0345 - accuracy: 0.4850 - val_loss: 1.0435 - val_accuracy: 0.4049\n",
      "Epoch 47/50\n",
      "276/276 [==============================] - 25s 90ms/step - loss: 1.0339 - accuracy: 0.4922 - val_loss: 1.0453 - val_accuracy: 0.3862\n",
      "Epoch 48/50\n",
      "276/276 [==============================] - 26s 94ms/step - loss: 1.0334 - accuracy: 0.4967 - val_loss: 1.0444 - val_accuracy: 0.3926\n",
      "Epoch 49/50\n",
      "276/276 [==============================] - 25s 89ms/step - loss: 1.0330 - accuracy: 0.5004 - val_loss: 1.0454 - val_accuracy: 0.3868\n",
      "Epoch 50/50\n",
      "276/276 [==============================] - 25s 92ms/step - loss: 1.0327 - accuracy: 0.5022 - val_loss: 1.0468 - val_accuracy: 0.3759\n"
     ]
    }
   ],
   "source": [
    "history = model.fit(x = training_set, validation_data = test_set, epochs=50)"
   ]
  },
  {
   "cell_type": "code",
   "execution_count": null,
   "id": "0dbce130",
   "metadata": {},
   "outputs": [],
   "source": []
  }
 ],
 "metadata": {
  "kernelspec": {
   "display_name": "Python 3 (ipykernel)",
   "language": "python",
   "name": "python3"
  },
  "language_info": {
   "codemirror_mode": {
    "name": "ipython",
    "version": 3
   },
   "file_extension": ".py",
   "mimetype": "text/x-python",
   "name": "python",
   "nbconvert_exporter": "python",
   "pygments_lexer": "ipython3",
   "version": "3.9.12"
  }
 },
 "nbformat": 4,
 "nbformat_minor": 5
}
